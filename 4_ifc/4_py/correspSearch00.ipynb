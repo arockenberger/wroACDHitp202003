{
 "cells": [
  {
   "cell_type": "code",
   "execution_count": 2,
   "metadata": {},
   "outputs": [],
   "source": [
    "import requests"
   ]
  },
  {
   "cell_type": "code",
   "execution_count": 2,
   "metadata": {},
   "outputs": [],
   "source": [
    "resp=requests.get('http://correspsearch.bbaw.de/api/v1.1/tei-json.xql?correspondent=http://d-nb.info/gnd/118540238&startdate=1889-08-01&enddate=1889-08-08')\n"
   ]
  },
  {
   "cell_type": "code",
   "execution_count": 3,
   "metadata": {
    "tags": []
   },
   "outputs": [
    {
     "name": "stdout",
     "output_type": "stream",
     "text": [
      "<Response [200]>\n"
     ]
    }
   ],
   "source": [
    "print(resp)"
   ]
  },
  {
   "cell_type": "code",
   "execution_count": 4,
   "metadata": {},
   "outputs": [],
   "source": [
    "resp=requests.get('http://correspsearch.bbaw.de/api/v1.1/tei-json.xql?correspondent=all&startdate=1889-08-01&enddate=1889-08-08')"
   ]
  },
  {
   "cell_type": "code",
   "execution_count": 5,
   "metadata": {
    "tags": []
   },
   "outputs": [
    {
     "name": "stdout",
     "output_type": "stream",
     "text": [
      "<Response [200]>\n"
     ]
    }
   ],
   "source": [
    "print(resp)"
   ]
  },
  {
   "cell_type": "code",
   "execution_count": 6,
   "metadata": {
    "tags": []
   },
   "outputs": [
    {
     "name": "stdout",
     "output_type": "stream",
     "text": [
      "200\n"
     ]
    }
   ],
   "source": [
    "print(resp.status_code)"
   ]
  },
  {
   "cell_type": "code",
   "execution_count": 7,
   "metadata": {
    "tags": []
   },
   "outputs": [
    {
     "name": "stdout",
     "output_type": "stream",
     "text": [
      "b'{\"teiHeader\":{\"fileDesc\":{\"titleStmt\":{\"title\":\"correspSearch API - Correspondence Descriptions from divers sources\",\"respStmt\":{\"resp\":\"Data provider of the correspondence descriptions\",\"name\":[\"\\\\n          Hans Harald M\\xc3\\xbcller, Bernhard Fetz, Marcel Illetschko, Mirko Nottscheid und Desiree Hebenstreit\\\\n        \",\"\\\\n                    Center for\\\\n                        Information Modelling, University of Graz\\\\n                \",\"\\\\n                    Berlin-Brandenburg Academy of Sciences and Humanities\\\\n                \",\"\\\\nNasjonalbiblioteket (National Library of Norway)\\\\n\\\\nbokselskap.no\\\\n\",\"\\\\n               Martin Anton M\\xc3\\xbcller\\\\n            \"]}},\"publicationStmt\":{\"publisher\":{\"ref\":{\"target\":\"http://www.bbaw.de\",\"#text\":\"Berlin-Brandenburgische Akademie der Wissenschaften\"}},\"availability\":{\"licence\":{\"target\":\"https://creativecommons.org/licenses/by/4.0/\",\"#text\":\"CC-BY 4.0\"}},\"idno\":{\"type\":\"url\",\"#text\":\"https://correspsearch.net//api/v1.1/tei-json.xql?correspondent=all&amp;startdate=1889-08-01&amp;enddate=1889-08-08\"},\"date\":{\"when\":\"2020-07-03T17:44:44.899+02:00\"}},\"sourceDesc\":{\"bibl\":[{\"xml:id\":\"ONBSASE\",\"type\":\"online\",\"#text\":[\"Briefwechsel Sauer-Seuffert, Digitale Edition (\",\"). Hrsg. von Hans Harald M\\xc3\\xbcller, Bernhard Fetz, Marcel Illetschko, Mirko Nottscheid und Desiree Hebenstreit. Wien und Hamburg 2016.\"],\"ref\":{\"target\":\"http://sauer-seuffert.onb.ac.at\",\"#text\":\"sauer-seuffert.onb.ac.at\"}},{\"xml:id\":\"ROLLETT\",\"type\":\"online\",\"#text\":\"\\\\n                    Walter H\\xc3\\xb6flechner und Ingrid M. Wagner (Hrsg.): Alexander Rollett. Seine Welt in Briefen,\\\\n                        1844-1903. Graz 2013\"},{\"xml:id\":\"e1e7187d-050f-44aa-9cdc-f60aaaa998d0\",\"type\":\"print\",\"#text\":\"Humboldt, Alexander von und Johann Franz Encke: Briefwechsel. Herausgegeben von Oliver Schwarz und Ingo Schwarz unter Mitarbeit von Eberhard Knobloch, Bd. 37, Beitr\\xc3\\xa4ge zur Alexander-von-Humboldt-Forschung, Berlin: Akademie Verlag 2013\"},{\"xml:id\":\"a92a2ecf-dd30-40d4-a9b9-51af2873303b\",\"type\":\"online\",\"#text\":\"Camilla Collett: Brev til Henrik og Susanna Ibsen. Utgitt ved Mette Refslund Witting, NB kilder 2:1, Nasjonalbiblioteket/bokselskap.no, Oslo 2014\\\\n\",\"ref\":{\"target\":\"https://www.bokselskap.no/boker/collettbrevibsen/tittelside\",\"#text\":\"https://www.bokselskap.no/boker/collettbrevibsen/tittelside\"}},{\"xml:id\":\"asbw_ea0a6dba-5789-4e6b-8631-7f9f329678e4\",\"type\":\"online\",\"#text\":\"Arthur Schnitzler \\xe2\\x80\\x93 Briefwechsel mit Autorinnen und Autoren. Digitale Edition herausgegeben von Martin Anton M\\xc3\\xbcller\\\\n                        und Gerd-Hermann Susen, 2018\\xe2\\x80\\x932021 \",\"ref\":{\"target\":\"https://schnitzler-briefe.acdh.oeaw.ac.at/\",\"#text\":\"https://schnitzler-briefe.acdh.oeaw.ac.at/\"}}]}},\"profileDesc\":{\"correspDesc\":[{\"source\":\"#e1e7187d-050f-44aa-9cdc-f60aaaa998d0\",\"key\":\"110\",\"correspAction\":[{\"type\":\"sent\",\"persName\":{\"ref\":\"http://d-nb.info/gnd/118554700\",\"#text\":\"Alexander von Humboldt\"},\"date\":{\"notAfter\":\"1934-12-31\",\"notBefore\":\"1834-01-01\",\"#text\":\"wohl 1834\"},\"placeName\":{\"ref\":\"http://www.geonames.org/2950159\",\"evidence\":\"conjecture\",\"#text\":\"Berlin\"}},{\"type\":\"received\",\"persName\":{\"ref\":\"http://d-nb.info/gnd/116471727\",\"#text\":\"Johann Franz Encke\"}}]},{\"source\":\"#ROLLETT\",\"ref\":\"http://gams.uni-graz.at/o:rollett.1863#L.93\",\"correspAction\":[{\"type\":\"sent\",\"persName\":{\"ref\":\"http://d-nb.info/gnd/1029625700\",\"#text\":\"Schauenstein, Adolf\"},\"date\":{\"notAfter\":\"1891\",\"notBefore\":\"1863\"},\"placeName\":\"unknown\"},{\"type\":\"received\",\"persName\":{\"ref\":\"http://d-nb.info/gnd/119034557\",\"#text\":\"Rollett, Alexander\"}}]},{\"source\":\"#ROLLETT\",\"ref\":\"http://gams.uni-graz.at/o:rollett.1863#L.104\",\"correspAction\":[{\"type\":\"sent\",\"persName\":{\"ref\":\"http://d-nb.info/gnd/1029625700\",\"#text\":\"Schauenstein, Adolf\"},\"date\":{\"notAfter\":\"1891\",\"notBefore\":\"1863\"},\"placeName\":{\"ref\":\"http://www.geonames.org/2778067\",\"#text\":\"Graz\"}},{\"type\":\"received\",\"persName\":{\"ref\":\"http://d-nb.info/gnd/119034557\",\"#text\":\"Rollett, Alexander\"}}]},{\"source\":\"#ROLLETT\",\"ref\":\"http://gams.uni-graz.at/o:rollett.1863#L.105\",\"correspAction\":[{\"type\":\"sent\",\"persName\":{\"ref\":\"http://d-nb.info/gnd/1029625700\",\"#text\":\"Schauenstein, Adolf\"},\"date\":{\"notAfter\":\"1891\",\"notBefore\":\"1863\"},\"placeName\":{\"ref\":\"http://www.geonames.org/2778067\",\"#text\":\"Graz\"}},{\"type\":\"received\",\"persName\":{\"ref\":\"http://d-nb.info/gnd/119034557\",\"#text\":\"Rollett, Alexander\"}}]},{\"source\":\"#ROLLETT\",\"ref\":\"http://gams.uni-graz.at/o:rollett.1863#L.106\",\"correspAction\":[{\"type\":\"sent\",\"persName\":{\"ref\":\"http://d-nb.info/gnd/1029625700\",\"#text\":\"Schauenstein, Adolf\"},\"date\":{\"notAfter\":\"1891\",\"notBefore\":\"1863\"},\"placeName\":{\"ref\":\"http://www.geonames.org/2778067\",\"#text\":\"Graz\"}},{\"type\":\"received\",\"persName\":{\"ref\":\"http://d-nb.info/gnd/119034557\",\"#text\":\"Rollett, Alexander\"}}]},{\"source\":\"#ROLLETT\",\"ref\":\"http://gams.uni-graz.at/o:rollett.1864#L.174\",\"correspAction\":[{\"type\":\"sent\",\"persName\":{\"ref\":\"http://d-nb.info/gnd/1029625700\",\"#text\":\"Schauenstein, Adolf\"},\"date\":{\"notAfter\":\"1891\",\"notBefore\":\"1863\"},\"placeName\":{\"ref\":\"http://www.geonames.org/2778067\",\"#text\":\"Graz\"}},{\"type\":\"received\",\"persName\":{\"ref\":\"http://d-nb.info/gnd/119034557\",\"#text\":\"Rollett, Alexander\"}}]},{\"source\":\"#ROLLETT\",\"ref\":\"http://gams.uni-graz.at/o:rollett.1871#L.561\",\"correspAction\":[{\"type\":\"sent\",\"persName\":{\"ref\":\"http://d-nb.info/gnd/116804688\",\"#text\":\"Graber, Vitus\"},\"date\":{\"notAfter\":\"1892\",\"notBefore\":\"1871\"},\"placeName\":\"unknown\"},{\"type\":\"received\",\"persName\":{\"ref\":\"http://d-nb.info/gnd/119034557\",\"#text\":\"Rollett, Alexander\"}}]},{\"source\":\"#ROLLETT\",\"ref\":\"http://gams.uni-graz.at/o:rollett.1872#L.614\",\"correspAction\":[{\"type\":\"sent\",\"persName\":{\"ref\":\"http://d-nb.info/gnd/116626062\",\"#text\":\"Rosenthal, Isidor\"},\"date\":{\"notAfter\":\"1903\",\"notBefore\":\"1872\"},\"placeName\":{\"ref\":\"http://www.geonames.org/2929567\",\"#text\":\"Erlangen\"}},{\"type\":\"received\",\"persName\":{\"ref\":\"http://d-nb.info/gnd/119034557\",\"#text\":\"Rollett, Alexander\"}}]},{\"source\":\"#ROLLETT\",\"ref\":\"http://gams.uni-graz.at/o:rollett.1876#L.855\",\"correspAction\":[{\"type\":\"sent\",\"persName\":{\"ref\":\"http://d-nb.info/gnd/116804688\",\"#text\":\"Graber, Vitus\"},\"date\":{\"notAfter\":\"1891\",\"notBefore\":\"1876\"},\"placeName\":{\"ref\":\"http://www.geonames.org/710719\",\"#text\":\"Czernowitz\"}},{\"type\":\"received\",\"persName\":{\"ref\":\"http://d-nb.info/gnd/119034557\",\"#text\":\"Rollett, Alexander\"}}]},{\"source\":\"#ROLLETT\",\"ref\":\"http://gams.uni-graz.at/o:rollett.1876#L.856\",\"correspAction\":[{\"type\":\"sent\",\"persName\":{\"ref\":\"http://d-nb.info/gnd/118611046\",\"#text\":\"Schuchardt, Hugo\"},\"date\":{\"notAfter\":\"1903\",\"notBefore\":\"1876\"},\"placeName\":{\"ref\":\"http://www.geonames.org/2778067\",\"#text\":\"Graz\"}},{\"type\":\"received\",\"persName\":{\"ref\":\"http://d-nb.info/gnd/119034557\",\"#text\":\"Rollett, Alexander\"}}]},{\"source\":\"#ROLLETT\",\"ref\":\"http://gams.uni-graz.at/o:rollett.1876#L.857\",\"correspAction\":[{\"type\":\"sent\",\"persName\":{\"ref\":\"http://d-nb.info/gnd/118611046\",\"#text\":\"Schuchardt, Hugo\"},\"date\":{\"notAfter\":\"1903\",\"notBefore\":\"1876\"},\"placeName\":{\"ref\":\"http://www.geonames.org/2778067\",\"#text\":\"Graz\"}},{\"type\":\"received\",\"persName\":{\"ref\":\"http://d-nb.info/gnd/119034557\",\"#text\":\"Rollett, Alexander\"}}]},{\"source\":\"#a92a2ecf-dd30-40d4-a9b9-51af2873303b\",\"ref\":\"https://www.bokselskap.no/boker/collettbrevibsen/udatert-sui\",\"correspAction\":[{\"type\":\"sent\",\"persName\":{\"ref\":\"http://viaf.org/viaf/56718081\",\"#text\":\"Camilla Collett\"},\"date\":{\"from\":\"1877\",\"to\":\"1895\"}},{\"type\":\"received\",\"persName\":{\"ref\":\"http://viaf.org/viaf/37987515\",\"#text\":\"Susanna Ibsen\"}}]},{\"source\":\"#ROLLETT\",\"ref\":\"http://gams.uni-graz.at/o:rollett.1882#L.1240\",\"correspAction\":[{\"type\":\"sent\",\"persName\":{\"ref\":\"http://d-nb.info/gnd/118930982\",\"#text\":\"Hofmann, Karl Berthold\"},\"date\":{\"notAfter\":\"1891\",\"notBefore\":\"1882\"},\"placeName\":{\"ref\":\"http://www.geonames.org/2778067\",\"#text\":\"Graz\"}},{\"type\":\"received\",\"persName\":{\"ref\":\"http://d-nb.info/gnd/119034557\",\"#text\":\"Rollett, Alexander\"}}]},{\"source\":\"#ROLLETT\",\"ref\":\"http://gams.uni-graz.at/o:rollett.1882#L.1241\",\"correspAction\":[{\"type\":\"sent\",\"persName\":\"Schl\\xc3\\xb6micher, [Albin]\",\"date\":{\"notAfter\":\"1893\",\"notBefore\":\"1882\"},\"placeName\":{\"ref\":\"http://www.geonames.org/2778067\",\"#text\":\"Graz\"}},{\"type\":\"received\",\"persName\":{\"ref\":\"http://d-nb.info/gnd/119034557\",\"#text\":\"Rollett, Alexander\"}}]},{\"source\":\"#ROLLETT\",\"ref\":\"http://gams.uni-graz.at/o:rollett.1882#L.1242\",\"correspAction\":[{\"type\":\"sent\",\"persName\":\"Waldhans [?], [NN]\",\"date\":{\"notAfter\":\"1893\",\"notBefore\":\"1882\"},\"placeName\":\"unknown\"},{\"type\":\"received\",\"persName\":{\"ref\":\"http://d-nb.info/gnd/119034557\",\"#text\":\"Rollett, Alexander\"}}]},{\"source\":\"#ROLLETT\",\"ref\":\"http://gams.uni-graz.at/o:rollett.1882#L.1243\",\"correspAction\":[{\"type\":\"sent\",\"persName\":{\"ref\":\"http://d-nb.info/gnd/117528137\",\"#text\":\"Fossel, Viktor\"},\"date\":{\"notAfter\":\"1893\",\"notBefore\":\"1882\"},\"placeName\":{\"ref\":\"http://www.geonames.org/2778067\",\"#text\":\"Graz\"}},{\"type\":\"received\",\"persName\":{\"ref\":\"http://d-nb.info/gnd/119034557\",\"#text\":\"Rollett, Alexander\"}}]},{\"source\":\"#ROLLETT\",\"ref\":\"http://gams.uni-graz.at/o:rollett.1882#L.1256\",\"correspAction\":[{\"type\":\"sent\",\"persName\":{\"ref\":\"http://d-nb.info/gnd/1019541296\",\"#text\":\"Lipp, Eduard\"},\"date\":{\"notAfter\":\"1893\",\"notBefore\":\"1882\"},\"placeName\":{\"ref\":\"http://www.geonames.org/2778067\",\"#text\":\"Graz\"}},{\"type\":\"received\",\"persName\":{\"ref\":\"http://d-nb.info/gnd/119034557\",\"#text\":\"Rollett, Alexander\"}}]},{\"source\":\"#ROLLETT\",\"ref\":\"http://gams.uni-graz.at/o:rollett.1882#L.1260\",\"correspAction\":[{\"type\":\"sent\",\"persName\":{\"ref\":\"http://d-nb.info/gnd/1019541296\",\"#text\":\"Lipp, Eduard\"},\"date\":{\"notAfter\":\"1893\",\"notBefore\":\"1882\"},\"placeName\":{\"ref\":\"http://www.geonames.org/2778067\",\"#text\":\"Graz\"}},{\"type\":\"received\",\"persName\":{\"ref\":\"http://d-nb.info/gnd/119034557\",\"#text\":\"Rollett, Alexander\"}}]},{\"source\":\"#ROLLETT\",\"ref\":\"http://gams.uni-graz.at/o:rollett.1882#L.1261\",\"correspAction\":[{\"type\":\"sent\",\"persName\":{\"ref\":\"http://d-nb.info/gnd/1019541296\",\"#text\":\"Lipp, Eduard\"},\"date\":{\"notAfter\":\"1893\",\"notBefore\":\"1882\"},\"placeName\":{\"ref\":\"http://www.geonames.org/2778067\",\"#text\":\"Graz\"}},{\"type\":\"received\",\"persName\":{\"ref\":\"http://d-nb.info/gnd/119034557\",\"#text\":\"Rollett, Alexander\"}}]},{\"source\":\"#ROLLETT\",\"ref\":\"http://gams.uni-graz.at/o:rollett.1882#L.1262\",\"correspAction\":[{\"type\":\"sent\",\"persName\":{\"ref\":\"http://d-nb.info/gnd/102749728\",\"#text\":\"Klemensiewicz, Rudolf\"},\"date\":{\"notAfter\":\"1893\",\"notBefore\":\"1882\"},\"placeName\":{\"ref\":\"http://www.geonames.org/2778067\",\"#text\":\"Graz\"}},{\"type\":\"received\",\"persName\":{\"ref\":\"http://d-nb.info/gnd/119034557\",\"#text\":\"Rollett, Alexander\"}}]},{\"source\":\"#ROLLETT\",\"ref\":\"http://gams.uni-graz.at/o:rollett.1882#L.1273\",\"correspAction\":[{\"type\":\"sent\",\"persName\":{\"ref\":\"http://d-nb.info/gnd/1019541296\",\"#text\":\"Lipp, Eduard\"},\"date\":{\"notAfter\":\"1893\",\"notBefore\":\"1882\"},\"placeName\":{\"ref\":\"http://www.geonames.org/2778067\",\"#text\":\"Graz\"}},{\"type\":\"received\",\"persName\":{\"ref\":\"http://d-nb.info/gnd/119034557\",\"#text\":\"Rollett, Alexander\"}}]},{\"source\":\"#ROLLETT\",\"ref\":\"http://gams.uni-graz.at/o:rollett.1882#L.1315\",\"correspAction\":[{\"type\":\"sent\",\"persName\":{\"ref\":\"http://d-nb.info/gnd/118930982\",\"#text\":\"Hofmann, Karl Berthold\"},\"date\":{\"notAfter\":\"1893\",\"notBefore\":\"1882\"},\"placeName\":{\"ref\":\"http://www.geonames.org/2778067\",\"#text\":\"Graz\"}},{\"type\":\"received\",\"persName\":{\"ref\":\"http://d-nb.info/gnd/119034557\",\"#text\":\"Rollett, Alexander\"}}]},{\"source\":\"#ROLLETT\",\"ref\":\"http://gams.uni-graz.at/o:rollett.1885#L.1435\",\"correspAction\":[{\"type\":\"sent\",\"persName\":\"Plazer, [NN]\",\"date\":{\"notAfter\":\"1893\",\"notBefore\":\"1885\"},\"placeName\":{\"ref\":\"http://www.geonames.org/2778067\",\"#text\":\"Graz\"}},{\"type\":\"received\",\"persName\":{\"ref\":\"http://d-nb.info/gnd/119034557\",\"#text\":\"Rollett, Alexander\"}}]},{\"source\":\"#ROLLETT\",\"ref\":\"http://gams.uni-graz.at/o:rollett.1886#L.1596\",\"correspAction\":[{\"type\":\"sent\",\"persName\":{\"ref\":\"http://d-nb.info/gnd/117614033\",\"#text\":\"W\\xc3\\xb6lfler, Anton\"},\"date\":{\"notAfter\":\"1893\",\"notBefore\":\"1886\"},\"placeName\":{\"ref\":\"http://www.geonames.org/2778067\",\"#text\":\"Graz\"}},{\"type\":\"received\",\"persName\":{\"ref\":\"http://d-nb.info/gnd/119034557\",\"#text\":\"Rollett, Alexander\"}}]},{\"source\":\"#ROLLETT\",\"ref\":\"http://gams.uni-graz.at/o:rollett.1887#L.1646\",\"correspAction\":[{\"type\":\"sent\",\"persName\":{\"ref\":\"http://d-nb.info/gnd/102749728\",\"#text\":\"Klemensiewicz, Rudolf\"},\"date\":{\"notAfter\":\"1893\",\"notBefore\":\"1887\"},\"placeName\":{\"ref\":\"http://www.geonames.org/2778067\",\"#text\":\"Graz\"}},{\"type\":\"received\",\"persName\":{\"ref\":\"http://d-nb.info/gnd/119034557\",\"#text\":\"Rollett, Alexander\"}}]},{\"source\":\"#ROLLETT\",\"ref\":\"http://gams.uni-graz.at/o:rollett.1887#L.1650\",\"correspAction\":[{\"type\":\"sent\",\"persName\":{\"ref\":\"http://d-nb.info/gnd/1019541296\",\"#text\":\"Lipp, Eduard\"},\"date\":{\"notAfter\":\"1892\",\"notBefore\":\"1887\"},\"placeName\":{\"ref\":\"http://www.geonames.org/2778067\",\"#text\":\"Graz\"}},{\"type\":\"received\",\"persName\":{\"ref\":\"http://d-nb.info/gnd/119034557\",\"#text\":\"Rollett, Alexander\"}}]},{\"source\":\"#ROLLETT\",\"ref\":\"http://gams.uni-graz.at/o:rollett.1889#L.1811\",\"correspAction\":[{\"type\":\"sent\",\"persName\":{\"ref\":\"http://d-nb.info/gnd/130658405\",\"#text\":\"Karajan, Max\"},\"date\":{\"when\":\"1889-08\"},\"placeName\":{\"ref\":\"http://www.geonames.org/2782070\",\"#text\":\"Markt Aussee\"}},{\"type\":\"received\",\"persName\":{\"ref\":\"http://d-nb.info/gnd/119034557\",\"#text\":\"Rollett, Alexander\"}}]},{\"source\":\"#ROLLETT\",\"ref\":\"http://gams.uni-graz.at/o:rollett.1889#L.1812\",\"correspAction\":[{\"type\":\"sent\",\"persName\":{\"ref\":\"http://d-nb.info/gnd/1011358298\",\"#text\":\"Glax, Julius\"},\"date\":{\"when\":\"1889-08\"},\"placeName\":{\"ref\":\"http://www.geonames.org/3194099\",\"#text\":\"Abbazia\"}},{\"type\":\"received\",\"persName\":{\"ref\":\"http://d-nb.info/gnd/119034557\",\"#text\":\"Rollett, Alexander\"}}]},{\"source\":\"#ROLLETT\",\"ref\":\"http://gams.uni-graz.at/o:rollett.1889#L.1813\",\"correspAction\":[{\"type\":\"sent\",\"persName\":\"Laker, Carl\",\"date\":{\"when\":\"1889-08\"},\"placeName\":{\"ref\":\"http://www.geonames.org/2768220\",\"#text\":\"Pusarnitz\"}},{\"type\":\"received\",\"persName\":{\"ref\":\"http://d-nb.info/gnd/119034557\",\"#text\":\"Rollett, Alexander\"}}]},{\"source\":\"#ONBSASE\",\"ref\":\"http://sauer-seuffert.onb.ac.at/node/8499\",\"correspAction\":[{\"type\":\"sent\",\"persName\":{\"ref\":\"http://d-nb.info/gnd/118605747\",\"#text\":\"Sauer, August\"},\"placeName\":{\"ref\":\"http://www.geonames.org/3067696\",\"#text\":\"Prag\"},\"date\":{\"when\":\"1889-08-01\"}},{\"type\":\"received\",\"persName\":{\"ref\":\"http://d-nb.info/gnd/117470902\",\"#text\":\"Seuffert, Bernhard\"},\"placeName\":{\"ref\":\"http://www.geonames.org/2778067\",\"#text\":\"Graz\"}}]},{\"ref\":\"https://schnitzler-briefe.acdh.oeaw.ac.at/pages/show.html?document=1889-08-02_01.xml&amp;stylesheet=plain\",\"source\":\"#asbw_ea0a6dba-5789-4e6b-8631-7f9f329678e4\",\"correspAction\":[{\"type\":\"sent\",\"persName\":{\"ref\":\"https://d-nb.info/gnd/116724919\",\"#text\":\"Mamroth, Fedor\"},\"placeName\":{\"ref\":\"http://sws.geonames.org/2925533/\",\"#text\":\"Frankfurt am Main\"},\"date\":{\"when\":\"1889-08-02\",\"#text\":\"2.\\xc2\\xa08.\\xc2\\xa01889\"}},{\"type\":\"received\",\"persName\":{\"ref\":\"https://d-nb.info/gnd/118609807\",\"#text\":\"Schnitzler, Arthur\"},\"placeName\":{\"ref\":\"https://www.geonames.org/2761333\",\"#text\":\"Wien\"}}]},{\"source\":\"#ONBSASE\",\"ref\":\"http://sauer-seuffert.onb.ac.at/node/8500\",\"correspAction\":[{\"type\":\"sent\",\"persName\":{\"ref\":\"http://d-nb.info/gnd/117470902\",\"#text\":\"Seuffert, Bernhard\"},\"placeName\":{\"ref\":\"http://www.geonames.org/2778067\",\"#text\":\"Graz\"},\"date\":{\"when\":\"1889-08-03\"}},{\"type\":\"received\",\"persName\":{\"ref\":\"http://d-nb.info/gnd/118605747\",\"#text\":\"Sauer, August\"},\"placeName\":{\"ref\":\"http://www.geonames.org/3067696\",\"#text\":\"Prag\"}}]},{\"source\":\"#ONBSASE\",\"ref\":\"http://sauer-seuffert.onb.ac.at/node/8501\",\"correspAction\":[{\"type\":\"sent\",\"persName\":{\"ref\":\"http://d-nb.info/gnd/118605747\",\"#text\":\"Sauer, August\"},\"placeName\":{\"ref\":\"http://www.geonames.org/3067696\",\"#text\":\"Prag\"},\"date\":{\"when\":\"1889-08-05\"}},{\"type\":\"received\",\"persName\":{\"ref\":\"http://d-nb.info/gnd/117470902\",\"#text\":\"Seuffert, Bernhard\"},\"placeName\":{\"ref\":\"http://www.geonames.org/2778067\",\"#text\":\"Graz\"}}]}]}},\"text\":{\"body\":{\"p\":null}}}'\n"
     ]
    }
   ],
   "source": [
    "print(resp.content)"
   ]
  },
  {
   "cell_type": "code",
   "execution_count": 8,
   "metadata": {},
   "outputs": [],
   "source": [
    "sFN='resp00.json'\n"
   ]
  },
  {
   "cell_type": "code",
   "execution_count": 9,
   "metadata": {},
   "outputs": [
    {
     "ename": "TypeError",
     "evalue": "write() argument must be str, not bytes",
     "output_type": "error",
     "traceback": [
      "\u001b[0;31m---------------------------------------------------------------------------\u001b[0m",
      "\u001b[0;31mTypeError\u001b[0m                                 Traceback (most recent call last)",
      "\u001b[0;32m<ipython-input-9-fcd70ccdedd4>\u001b[0m in \u001b[0;36m<module>\u001b[0;34m\u001b[0m\n\u001b[1;32m      1\u001b[0m \u001b[0;32mwith\u001b[0m \u001b[0mopen\u001b[0m\u001b[0;34m(\u001b[0m\u001b[0msFN\u001b[0m\u001b[0;34m,\u001b[0m\u001b[0;34m\"w\"\u001b[0m\u001b[0;34m)\u001b[0m \u001b[0;32mas\u001b[0m \u001b[0mfResp\u001b[0m\u001b[0;34m:\u001b[0m\u001b[0;34m\u001b[0m\u001b[0;34m\u001b[0m\u001b[0m\n\u001b[0;32m----> 2\u001b[0;31m     \u001b[0mfResp\u001b[0m\u001b[0;34m.\u001b[0m\u001b[0mwrite\u001b[0m\u001b[0;34m(\u001b[0m\u001b[0mresp\u001b[0m\u001b[0;34m.\u001b[0m\u001b[0mcontent\u001b[0m\u001b[0;34m)\u001b[0m\u001b[0;34m\u001b[0m\u001b[0;34m\u001b[0m\u001b[0m\n\u001b[0m\u001b[1;32m      3\u001b[0m \u001b[0;34m\u001b[0m\u001b[0m\n",
      "\u001b[0;31mTypeError\u001b[0m: write() argument must be str, not bytes"
     ]
    }
   ],
   "source": [
    "with open(sFN,\"w\") as fResp:\n",
    "    fResp.write(resp.content)\n",
    "    "
   ]
  },
  {
   "cell_type": "code",
   "execution_count": 10,
   "metadata": {},
   "outputs": [
    {
     "data": {
      "text/plain": [
       "bytes"
      ]
     },
     "execution_count": 10,
     "metadata": {},
     "output_type": "execute_result"
    }
   ],
   "source": [
    "type(resp.content)"
   ]
  },
  {
   "cell_type": "code",
   "execution_count": 12,
   "metadata": {},
   "outputs": [],
   "source": [
    "with open(sFN,\"wb\") as fResp:\n",
    "    fResp.write(resp.content)"
   ]
  },
  {
   "cell_type": "code",
   "execution_count": 13,
   "metadata": {},
   "outputs": [
    {
     "data": {
      "text/plain": [
       "_io.BufferedWriter"
      ]
     },
     "execution_count": 13,
     "metadata": {},
     "output_type": "execute_result"
    }
   ],
   "source": [
    "type(fResp)"
   ]
  },
  {
   "cell_type": "code",
   "execution_count": 14,
   "metadata": {},
   "outputs": [],
   "source": [
    "fResp.close()"
   ]
  },
  {
   "cell_type": "code",
   "execution_count": 3,
   "metadata": {},
   "outputs": [],
   "source": [
    "resp01=requests.get('http://correspsearch.bbaw.de/api/v1.1/tei-xml.xql?correspondent=all&startdate=1889-08-01&enddate=1889-08-08')"
   ]
  },
  {
   "cell_type": "code",
   "execution_count": 4,
   "metadata": {},
   "outputs": [],
   "source": [
    "sFN='resp00.xml'"
   ]
  },
  {
   "cell_type": "code",
   "execution_count": 5,
   "metadata": {},
   "outputs": [
    {
     "data": {
      "text/plain": [
       "bytes"
      ]
     },
     "execution_count": 5,
     "metadata": {},
     "output_type": "execute_result"
    }
   ],
   "source": [
    "type(resp01.content)"
   ]
  },
  {
   "cell_type": "code",
   "execution_count": 19,
   "metadata": {},
   "outputs": [],
   "source": [
    "with open(sFN,\"wb\") as fResp:\n",
    "    fResp.write(resp01.content)"
   ]
  },
  {
   "cell_type": "code",
   "execution_count": 6,
   "metadata": {},
   "outputs": [],
   "source": [
    "from bs4 import BeautifulSoup as bfs"
   ]
  },
  {
   "cell_type": "code",
   "execution_count": 7,
   "metadata": {},
   "outputs": [],
   "source": [
    "soup00=bfs(resp01.content.decode('utf-8'))"
   ]
  },
  {
   "cell_type": "code",
   "execution_count": 8,
   "metadata": {
    "tags": []
   },
   "outputs": [
    {
     "name": "stdout",
     "output_type": "stream",
     "text": [
      "<tei xmlns=\"http://www.tei-c.org/ns/1.0\">\n",
      "<teiheader>\n",
      "<filedesc>\n",
      "<titlestmt>\n",
      "<title>correspSearch API - Correspondence Descriptions from divers sources</title>\n",
      "<respstmt>\n",
      "<resp>Data provider of the correspondence descriptions</resp>\n",
      "<name>\n",
      "          Hans Harald Müller, Bernhard Fetz, Marcel Illetschko, Mirko Nottscheid und Desiree Hebenstreit\n",
      "        </name>\n",
      "<name>\n",
      "                    Center for\n",
      "                        Information Modelling, University of Graz\n",
      "                </name>\n",
      "<name>\n",
      "                    Berlin-Brandenburg Academy of Sciences and Humanities\n",
      "                </name>\n",
      "<name>\n",
      "Nasjonalbiblioteket (National Library of Norway)\n",
      "\n",
      "bokselskap.no\n",
      "</name>\n",
      "<name>\n",
      "               Martin Anton Müller\n",
      "            </name>\n",
      "</respstmt>\n",
      "</titlestmt>\n",
      "<publicationstmt>\n",
      "<publisher>\n",
      "<ref target=\"http://www.bbaw.de\">Berlin-Brandenburgische Akademie der Wissenschaften</ref>\n",
      "</publisher>\n",
      "<availability>\n",
      "<licence target=\"https://creativecommons.org/licenses/by/4.0/\">CC-BY 4.0</licence>\n",
      "</availability>\n",
      "<idno type=\"url\">https://correspsearch.net//api/v1.1/tei-xml.xql?correspondent=all&amp;startdate=1889-08-01&amp;enddate=1889-08-08</idno>\n",
      "<date when=\"2020-07-04T08:59:37.179+02:00\"></date>\n",
      "</publicationstmt>\n",
      "<sourcedesc>\n",
      "<bibl type=\"online\" xml:id=\"ONBSASE\">Briefwechsel Sauer-Seuffert, Digitale Edition (<ref target=\"http://sauer-seuffert.onb.ac.at\">sauer-seuffert.onb.ac.at</ref>). Hrsg. von Hans Harald Müller, Bernhard Fetz, Marcel Illetschko, Mirko Nottscheid und Desiree Hebenstreit. Wien und Hamburg 2016.</bibl>\n",
      "<bibl type=\"online\" xml:id=\"ROLLETT\">\n",
      "                    Walter Höflechner und Ingrid M. Wagner (Hrsg.): Alexander Rollett. Seine Welt in Briefen,\n",
      "                        1844-1903. Graz 2013</bibl>\n",
      "<bibl type=\"print\" xml:id=\"e1e7187d-050f-44aa-9cdc-f60aaaa998d0\">Humboldt, Alexander von und Johann Franz Encke: Briefwechsel. Herausgegeben von Oliver Schwarz und Ingo Schwarz unter Mitarbeit von Eberhard Knobloch, Bd. 37, Beiträge zur Alexander-von-Humboldt-Forschung, Berlin: Akademie Verlag 2013</bibl>\n",
      "<bibl type=\"online\" xml:id=\"a92a2ecf-dd30-40d4-a9b9-51af2873303b\">Camilla Collett: Brev til Henrik og Susanna Ibsen. Utgitt ved Mette Refslund Witting, NB kilder 2:1, Nasjonalbiblioteket/bokselskap.no, Oslo 2014\n",
      "<ref target=\"https://www.bokselskap.no/boker/collettbrevibsen/tittelside\">https://www.bokselskap.no/boker/collettbrevibsen/tittelside</ref>\n",
      "</bibl>\n",
      "<bibl type=\"online\" xml:id=\"asbw_ea0a6dba-5789-4e6b-8631-7f9f329678e4\">Arthur Schnitzler – Briefwechsel mit Autorinnen und Autoren. Digitale Edition herausgegeben von Martin Anton Müller\n",
      "                        und Gerd-Hermann Susen, 2018–2021 <ref target=\"https://schnitzler-briefe.acdh.oeaw.ac.at/\">https://schnitzler-briefe.acdh.oeaw.ac.at/</ref>\n",
      "</bibl>\n",
      "</sourcedesc>\n",
      "</filedesc>\n",
      "<profiledesc>\n",
      "<correspdesc key=\"110\" source=\"#e1e7187d-050f-44aa-9cdc-f60aaaa998d0\">\n",
      "<correspaction type=\"sent\">\n",
      "<persname ref=\"http://d-nb.info/gnd/118554700\">Alexander von Humboldt</persname>\n",
      "<date notafter=\"1934-12-31\" notbefore=\"1834-01-01\">wohl 1834</date>\n",
      "<placename evidence=\"conjecture\" ref=\"http://www.geonames.org/2950159\">Berlin</placename>\n",
      "</correspaction>\n",
      "<correspaction type=\"received\">\n",
      "<persname ref=\"http://d-nb.info/gnd/116471727\">Johann Franz Encke</persname>\n",
      "</correspaction>\n",
      "</correspdesc>\n",
      "<correspdesc ref=\"http://gams.uni-graz.at/o:rollett.1863#L.93\" source=\"#ROLLETT\">\n",
      "<correspaction type=\"sent\">\n",
      "<persname ref=\"http://d-nb.info/gnd/1029625700\">Schauenstein, Adolf</persname>\n",
      "<date notafter=\"1891\" notbefore=\"1863\"></date>\n",
      "<placename>unknown</placename>\n",
      "</correspaction>\n",
      "<correspaction type=\"received\">\n",
      "<persname ref=\"http://d-nb.info/gnd/119034557\">Rollett, Alexander</persname>\n",
      "</correspaction>\n",
      "</correspdesc>\n",
      "<correspdesc ref=\"http://gams.uni-graz.at/o:rollett.1863#L.104\" source=\"#ROLLETT\">\n",
      "<correspaction type=\"sent\">\n",
      "<persname ref=\"http://d-nb.info/gnd/1029625700\">Schauenstein, Adolf</persname>\n",
      "<date notafter=\"1891\" notbefore=\"1863\"></date>\n",
      "<placename ref=\"http://www.geonames.org/2778067\">Graz</placename>\n",
      "</correspaction>\n",
      "<correspaction type=\"received\">\n",
      "<persname ref=\"http://d-nb.info/gnd/119034557\">Rollett, Alexander</persname>\n",
      "</correspaction>\n",
      "</correspdesc>\n",
      "<correspdesc ref=\"http://gams.uni-graz.at/o:rollett.1863#L.105\" source=\"#ROLLETT\">\n",
      "<correspaction type=\"sent\">\n",
      "<persname ref=\"http://d-nb.info/gnd/1029625700\">Schauenstein, Adolf</persname>\n",
      "<date notafter=\"1891\" notbefore=\"1863\"></date>\n",
      "<placename ref=\"http://www.geonames.org/2778067\">Graz</placename>\n",
      "</correspaction>\n",
      "<correspaction type=\"received\">\n",
      "<persname ref=\"http://d-nb.info/gnd/119034557\">Rollett, Alexander</persname>\n",
      "</correspaction>\n",
      "</correspdesc>\n",
      "<correspdesc ref=\"http://gams.uni-graz.at/o:rollett.1863#L.106\" source=\"#ROLLETT\">\n",
      "<correspaction type=\"sent\">\n",
      "<persname ref=\"http://d-nb.info/gnd/1029625700\">Schauenstein, Adolf</persname>\n",
      "<date notafter=\"1891\" notbefore=\"1863\"></date>\n",
      "<placename ref=\"http://www.geonames.org/2778067\">Graz</placename>\n",
      "</correspaction>\n",
      "<correspaction type=\"received\">\n",
      "<persname ref=\"http://d-nb.info/gnd/119034557\">Rollett, Alexander</persname>\n",
      "</correspaction>\n",
      "</correspdesc>\n",
      "<correspdesc ref=\"http://gams.uni-graz.at/o:rollett.1864#L.174\" source=\"#ROLLETT\">\n",
      "<correspaction type=\"sent\">\n",
      "<persname ref=\"http://d-nb.info/gnd/1029625700\">Schauenstein, Adolf</persname>\n",
      "<date notafter=\"1891\" notbefore=\"1863\"></date>\n",
      "<placename ref=\"http://www.geonames.org/2778067\">Graz</placename>\n",
      "</correspaction>\n",
      "<correspaction type=\"received\">\n",
      "<persname ref=\"http://d-nb.info/gnd/119034557\">Rollett, Alexander</persname>\n",
      "</correspaction>\n",
      "</correspdesc>\n",
      "<correspdesc ref=\"http://gams.uni-graz.at/o:rollett.1871#L.561\" source=\"#ROLLETT\">\n",
      "<correspaction type=\"sent\">\n",
      "<persname ref=\"http://d-nb.info/gnd/116804688\">Graber, Vitus</persname>\n",
      "<date notafter=\"1892\" notbefore=\"1871\"></date>\n",
      "<placename>unknown</placename>\n",
      "</correspaction>\n",
      "<correspaction type=\"received\">\n",
      "<persname ref=\"http://d-nb.info/gnd/119034557\">Rollett, Alexander</persname>\n",
      "</correspaction>\n",
      "</correspdesc>\n",
      "<correspdesc ref=\"http://gams.uni-graz.at/o:rollett.1872#L.614\" source=\"#ROLLETT\">\n",
      "<correspaction type=\"sent\">\n",
      "<persname ref=\"http://d-nb.info/gnd/116626062\">Rosenthal, Isidor</persname>\n",
      "<date notafter=\"1903\" notbefore=\"1872\"></date>\n",
      "<placename ref=\"http://www.geonames.org/2929567\">Erlangen</placename>\n",
      "</correspaction>\n",
      "<correspaction type=\"received\">\n",
      "<persname ref=\"http://d-nb.info/gnd/119034557\">Rollett, Alexander</persname>\n",
      "</correspaction>\n",
      "</correspdesc>\n",
      "<correspdesc ref=\"http://gams.uni-graz.at/o:rollett.1876#L.855\" source=\"#ROLLETT\">\n",
      "<correspaction type=\"sent\">\n",
      "<persname ref=\"http://d-nb.info/gnd/116804688\">Graber, Vitus</persname>\n",
      "<date notafter=\"1891\" notbefore=\"1876\"></date>\n",
      "<placename ref=\"http://www.geonames.org/710719\">Czernowitz</placename>\n",
      "</correspaction>\n",
      "<correspaction type=\"received\">\n",
      "<persname ref=\"http://d-nb.info/gnd/119034557\">Rollett, Alexander</persname>\n",
      "</correspaction>\n",
      "</correspdesc>\n",
      "<correspdesc ref=\"http://gams.uni-graz.at/o:rollett.1876#L.856\" source=\"#ROLLETT\">\n",
      "<correspaction type=\"sent\">\n",
      "<persname ref=\"http://d-nb.info/gnd/118611046\">Schuchardt, Hugo</persname>\n",
      "<date notafter=\"1903\" notbefore=\"1876\"></date>\n",
      "<placename ref=\"http://www.geonames.org/2778067\">Graz</placename>\n",
      "</correspaction>\n",
      "<correspaction type=\"received\">\n",
      "<persname ref=\"http://d-nb.info/gnd/119034557\">Rollett, Alexander</persname>\n",
      "</correspaction>\n",
      "</correspdesc>\n",
      "<correspdesc ref=\"http://gams.uni-graz.at/o:rollett.1876#L.857\" source=\"#ROLLETT\">\n",
      "<correspaction type=\"sent\">\n",
      "<persname ref=\"http://d-nb.info/gnd/118611046\">Schuchardt, Hugo</persname>\n",
      "<date notafter=\"1903\" notbefore=\"1876\"></date>\n",
      "<placename ref=\"http://www.geonames.org/2778067\">Graz</placename>\n",
      "</correspaction>\n",
      "<correspaction type=\"received\">\n",
      "<persname ref=\"http://d-nb.info/gnd/119034557\">Rollett, Alexander</persname>\n",
      "</correspaction>\n",
      "</correspdesc>\n",
      "<correspdesc ref=\"https://www.bokselskap.no/boker/collettbrevibsen/udatert-sui\" source=\"#a92a2ecf-dd30-40d4-a9b9-51af2873303b\">\n",
      "<correspaction type=\"sent\">\n",
      "<persname ref=\"http://viaf.org/viaf/56718081\">Camilla Collett</persname>\n",
      "<date from=\"1877\" to=\"1895\"></date>\n",
      "</correspaction>\n",
      "<correspaction type=\"received\">\n",
      "<persname ref=\"http://viaf.org/viaf/37987515\">Susanna Ibsen</persname>\n",
      "</correspaction>\n",
      "</correspdesc>\n",
      "<correspdesc ref=\"http://gams.uni-graz.at/o:rollett.1882#L.1240\" source=\"#ROLLETT\">\n",
      "<correspaction type=\"sent\">\n",
      "<persname ref=\"http://d-nb.info/gnd/118930982\">Hofmann, Karl Berthold</persname>\n",
      "<date notafter=\"1891\" notbefore=\"1882\"></date>\n",
      "<placename ref=\"http://www.geonames.org/2778067\">Graz</placename>\n",
      "</correspaction>\n",
      "<correspaction type=\"received\">\n",
      "<persname ref=\"http://d-nb.info/gnd/119034557\">Rollett, Alexander</persname>\n",
      "</correspaction>\n",
      "</correspdesc>\n",
      "<correspdesc ref=\"http://gams.uni-graz.at/o:rollett.1882#L.1241\" source=\"#ROLLETT\">\n",
      "<correspaction type=\"sent\">\n",
      "<persname>Schlömicher, [Albin]</persname>\n",
      "<date notafter=\"1893\" notbefore=\"1882\"></date>\n",
      "<placename ref=\"http://www.geonames.org/2778067\">Graz</placename>\n",
      "</correspaction>\n",
      "<correspaction type=\"received\">\n",
      "<persname ref=\"http://d-nb.info/gnd/119034557\">Rollett, Alexander</persname>\n",
      "</correspaction>\n",
      "</correspdesc>\n",
      "<correspdesc ref=\"http://gams.uni-graz.at/o:rollett.1882#L.1242\" source=\"#ROLLETT\">\n",
      "<correspaction type=\"sent\">\n",
      "<persname>Waldhans [?], [NN]</persname>\n",
      "<date notafter=\"1893\" notbefore=\"1882\"></date>\n",
      "<placename>unknown</placename>\n",
      "</correspaction>\n",
      "<correspaction type=\"received\">\n",
      "<persname ref=\"http://d-nb.info/gnd/119034557\">Rollett, Alexander</persname>\n",
      "</correspaction>\n",
      "</correspdesc>\n",
      "<correspdesc ref=\"http://gams.uni-graz.at/o:rollett.1882#L.1243\" source=\"#ROLLETT\">\n",
      "<correspaction type=\"sent\">\n",
      "<persname ref=\"http://d-nb.info/gnd/117528137\">Fossel, Viktor</persname>\n",
      "<date notafter=\"1893\" notbefore=\"1882\"></date>\n",
      "<placename ref=\"http://www.geonames.org/2778067\">Graz</placename>\n",
      "</correspaction>\n",
      "<correspaction type=\"received\">\n",
      "<persname ref=\"http://d-nb.info/gnd/119034557\">Rollett, Alexander</persname>\n",
      "</correspaction>\n",
      "</correspdesc>\n",
      "<correspdesc ref=\"http://gams.uni-graz.at/o:rollett.1882#L.1256\" source=\"#ROLLETT\">\n",
      "<correspaction type=\"sent\">\n",
      "<persname ref=\"http://d-nb.info/gnd/1019541296\">Lipp, Eduard</persname>\n",
      "<date notafter=\"1893\" notbefore=\"1882\"></date>\n",
      "<placename ref=\"http://www.geonames.org/2778067\">Graz</placename>\n",
      "</correspaction>\n",
      "<correspaction type=\"received\">\n",
      "<persname ref=\"http://d-nb.info/gnd/119034557\">Rollett, Alexander</persname>\n",
      "</correspaction>\n",
      "</correspdesc>\n",
      "<correspdesc ref=\"http://gams.uni-graz.at/o:rollett.1882#L.1260\" source=\"#ROLLETT\">\n",
      "<correspaction type=\"sent\">\n",
      "<persname ref=\"http://d-nb.info/gnd/1019541296\">Lipp, Eduard</persname>\n",
      "<date notafter=\"1893\" notbefore=\"1882\"></date>\n",
      "<placename ref=\"http://www.geonames.org/2778067\">Graz</placename>\n",
      "</correspaction>\n",
      "<correspaction type=\"received\">\n",
      "<persname ref=\"http://d-nb.info/gnd/119034557\">Rollett, Alexander</persname>\n",
      "</correspaction>\n",
      "</correspdesc>\n",
      "<correspdesc ref=\"http://gams.uni-graz.at/o:rollett.1882#L.1261\" source=\"#ROLLETT\">\n",
      "<correspaction type=\"sent\">\n",
      "<persname ref=\"http://d-nb.info/gnd/1019541296\">Lipp, Eduard</persname>\n",
      "<date notafter=\"1893\" notbefore=\"1882\"></date>\n",
      "<placename ref=\"http://www.geonames.org/2778067\">Graz</placename>\n",
      "</correspaction>\n",
      "<correspaction type=\"received\">\n",
      "<persname ref=\"http://d-nb.info/gnd/119034557\">Rollett, Alexander</persname>\n",
      "</correspaction>\n",
      "</correspdesc>\n",
      "<correspdesc ref=\"http://gams.uni-graz.at/o:rollett.1882#L.1262\" source=\"#ROLLETT\">\n",
      "<correspaction type=\"sent\">\n",
      "<persname ref=\"http://d-nb.info/gnd/102749728\">Klemensiewicz, Rudolf</persname>\n",
      "<date notafter=\"1893\" notbefore=\"1882\"></date>\n",
      "<placename ref=\"http://www.geonames.org/2778067\">Graz</placename>\n",
      "</correspaction>\n",
      "<correspaction type=\"received\">\n",
      "<persname ref=\"http://d-nb.info/gnd/119034557\">Rollett, Alexander</persname>\n",
      "</correspaction>\n",
      "</correspdesc>\n",
      "<correspdesc ref=\"http://gams.uni-graz.at/o:rollett.1882#L.1273\" source=\"#ROLLETT\">\n",
      "<correspaction type=\"sent\">\n",
      "<persname ref=\"http://d-nb.info/gnd/1019541296\">Lipp, Eduard</persname>\n",
      "<date notafter=\"1893\" notbefore=\"1882\"></date>\n",
      "<placename ref=\"http://www.geonames.org/2778067\">Graz</placename>\n",
      "</correspaction>\n",
      "<correspaction type=\"received\">\n",
      "<persname ref=\"http://d-nb.info/gnd/119034557\">Rollett, Alexander</persname>\n",
      "</correspaction>\n",
      "</correspdesc>\n",
      "<correspdesc ref=\"http://gams.uni-graz.at/o:rollett.1882#L.1315\" source=\"#ROLLETT\">\n",
      "<correspaction type=\"sent\">\n",
      "<persname ref=\"http://d-nb.info/gnd/118930982\">Hofmann, Karl Berthold</persname>\n",
      "<date notafter=\"1893\" notbefore=\"1882\"></date>\n",
      "<placename ref=\"http://www.geonames.org/2778067\">Graz</placename>\n",
      "</correspaction>\n",
      "<correspaction type=\"received\">\n",
      "<persname ref=\"http://d-nb.info/gnd/119034557\">Rollett, Alexander</persname>\n",
      "</correspaction>\n",
      "</correspdesc>\n",
      "<correspdesc ref=\"http://gams.uni-graz.at/o:rollett.1885#L.1435\" source=\"#ROLLETT\">\n",
      "<correspaction type=\"sent\">\n",
      "<persname>Plazer, [NN]</persname>\n",
      "<date notafter=\"1893\" notbefore=\"1885\"></date>\n",
      "<placename ref=\"http://www.geonames.org/2778067\">Graz</placename>\n",
      "</correspaction>\n",
      "<correspaction type=\"received\">\n",
      "<persname ref=\"http://d-nb.info/gnd/119034557\">Rollett, Alexander</persname>\n",
      "</correspaction>\n",
      "</correspdesc>\n",
      "<correspdesc ref=\"http://gams.uni-graz.at/o:rollett.1886#L.1596\" source=\"#ROLLETT\">\n",
      "<correspaction type=\"sent\">\n",
      "<persname ref=\"http://d-nb.info/gnd/117614033\">Wölfler, Anton</persname>\n",
      "<date notafter=\"1893\" notbefore=\"1886\"></date>\n",
      "<placename ref=\"http://www.geonames.org/2778067\">Graz</placename>\n",
      "</correspaction>\n",
      "<correspaction type=\"received\">\n",
      "<persname ref=\"http://d-nb.info/gnd/119034557\">Rollett, Alexander</persname>\n",
      "</correspaction>\n",
      "</correspdesc>\n",
      "<correspdesc ref=\"http://gams.uni-graz.at/o:rollett.1887#L.1646\" source=\"#ROLLETT\">\n",
      "<correspaction type=\"sent\">\n",
      "<persname ref=\"http://d-nb.info/gnd/102749728\">Klemensiewicz, Rudolf</persname>\n",
      "<date notafter=\"1893\" notbefore=\"1887\"></date>\n",
      "<placename ref=\"http://www.geonames.org/2778067\">Graz</placename>\n",
      "</correspaction>\n",
      "<correspaction type=\"received\">\n",
      "<persname ref=\"http://d-nb.info/gnd/119034557\">Rollett, Alexander</persname>\n",
      "</correspaction>\n",
      "</correspdesc>\n",
      "<correspdesc ref=\"http://gams.uni-graz.at/o:rollett.1887#L.1650\" source=\"#ROLLETT\">\n",
      "<correspaction type=\"sent\">\n",
      "<persname ref=\"http://d-nb.info/gnd/1019541296\">Lipp, Eduard</persname>\n",
      "<date notafter=\"1892\" notbefore=\"1887\"></date>\n",
      "<placename ref=\"http://www.geonames.org/2778067\">Graz</placename>\n",
      "</correspaction>\n",
      "<correspaction type=\"received\">\n",
      "<persname ref=\"http://d-nb.info/gnd/119034557\">Rollett, Alexander</persname>\n",
      "</correspaction>\n",
      "</correspdesc>\n",
      "<correspdesc ref=\"http://gams.uni-graz.at/o:rollett.1889#L.1811\" source=\"#ROLLETT\">\n",
      "<correspaction type=\"sent\">\n",
      "<persname ref=\"http://d-nb.info/gnd/130658405\">Karajan, Max</persname>\n",
      "<date when=\"1889-08\"></date>\n",
      "<placename ref=\"http://www.geonames.org/2782070\">Markt Aussee</placename>\n",
      "</correspaction>\n",
      "<correspaction type=\"received\">\n",
      "<persname ref=\"http://d-nb.info/gnd/119034557\">Rollett, Alexander</persname>\n",
      "</correspaction>\n",
      "</correspdesc>\n",
      "<correspdesc ref=\"http://gams.uni-graz.at/o:rollett.1889#L.1812\" source=\"#ROLLETT\">\n",
      "<correspaction type=\"sent\">\n",
      "<persname ref=\"http://d-nb.info/gnd/1011358298\">Glax, Julius</persname>\n",
      "<date when=\"1889-08\"></date>\n",
      "<placename ref=\"http://www.geonames.org/3194099\">Abbazia</placename>\n",
      "</correspaction>\n",
      "<correspaction type=\"received\">\n",
      "<persname ref=\"http://d-nb.info/gnd/119034557\">Rollett, Alexander</persname>\n",
      "</correspaction>\n",
      "</correspdesc>\n",
      "<correspdesc ref=\"http://gams.uni-graz.at/o:rollett.1889#L.1813\" source=\"#ROLLETT\">\n",
      "<correspaction type=\"sent\">\n",
      "<persname>Laker, Carl</persname>\n",
      "<date when=\"1889-08\"></date>\n",
      "<placename ref=\"http://www.geonames.org/2768220\">Pusarnitz</placename>\n",
      "</correspaction>\n",
      "<correspaction type=\"received\">\n",
      "<persname ref=\"http://d-nb.info/gnd/119034557\">Rollett, Alexander</persname>\n",
      "</correspaction>\n",
      "</correspdesc>\n",
      "<correspdesc ref=\"http://sauer-seuffert.onb.ac.at/node/8499\" source=\"#ONBSASE\">\n",
      "<correspaction type=\"sent\">\n",
      "<persname ref=\"http://d-nb.info/gnd/118605747\">Sauer, August</persname>\n",
      "<placename ref=\"http://www.geonames.org/3067696\">Prag</placename>\n",
      "<date when=\"1889-08-01\"></date>\n",
      "</correspaction>\n",
      "<correspaction type=\"received\">\n",
      "<persname ref=\"http://d-nb.info/gnd/117470902\">Seuffert, Bernhard</persname>\n",
      "<placename ref=\"http://www.geonames.org/2778067\">Graz</placename>\n",
      "</correspaction>\n",
      "</correspdesc>\n",
      "<correspdesc ref=\"https://schnitzler-briefe.acdh.oeaw.ac.at/pages/show.html?document=1889-08-02_01.xml&amp;stylesheet=plain\" source=\"#asbw_ea0a6dba-5789-4e6b-8631-7f9f329678e4\">\n",
      "<correspaction type=\"sent\">\n",
      "<persname ref=\"https://d-nb.info/gnd/116724919\">Mamroth, Fedor</persname>\n",
      "<placename ref=\"http://sws.geonames.org/2925533/\">Frankfurt am Main</placename>\n",
      "<date when=\"1889-08-02\">2. 8. 1889</date>\n",
      "</correspaction>\n",
      "<correspaction type=\"received\">\n",
      "<persname ref=\"https://d-nb.info/gnd/118609807\">Schnitzler, Arthur</persname>\n",
      "<placename ref=\"https://www.geonames.org/2761333\">Wien</placename>\n",
      "</correspaction>\n",
      "</correspdesc>\n",
      "<correspdesc ref=\"http://sauer-seuffert.onb.ac.at/node/8500\" source=\"#ONBSASE\">\n",
      "<correspaction type=\"sent\">\n",
      "<persname ref=\"http://d-nb.info/gnd/117470902\">Seuffert, Bernhard</persname>\n",
      "<placename ref=\"http://www.geonames.org/2778067\">Graz</placename>\n",
      "<date when=\"1889-08-03\"></date>\n",
      "</correspaction>\n",
      "<correspaction type=\"received\">\n",
      "<persname ref=\"http://d-nb.info/gnd/118605747\">Sauer, August</persname>\n",
      "<placename ref=\"http://www.geonames.org/3067696\">Prag</placename>\n",
      "</correspaction>\n",
      "</correspdesc>\n",
      "<correspdesc ref=\"http://sauer-seuffert.onb.ac.at/node/8501\" source=\"#ONBSASE\">\n",
      "<correspaction type=\"sent\">\n",
      "<persname ref=\"http://d-nb.info/gnd/118605747\">Sauer, August</persname>\n",
      "<placename ref=\"http://www.geonames.org/3067696\">Prag</placename>\n",
      "<date when=\"1889-08-05\"></date>\n",
      "</correspaction>\n",
      "<correspaction type=\"received\">\n",
      "<persname ref=\"http://d-nb.info/gnd/117470902\">Seuffert, Bernhard</persname>\n",
      "<placename ref=\"http://www.geonames.org/2778067\">Graz</placename>\n",
      "</correspaction>\n",
      "</correspdesc>\n",
      "</profiledesc>\n",
      "</teiheader>\n",
      "<text>\n",
      "<body>\n",
      "<p></p>\n",
      "</body>\n",
      "</text>\n",
      "</tei>\n"
     ]
    }
   ],
   "source": [
    "print(soup00)"
   ]
  },
  {
   "cell_type": "code",
   "execution_count": 15,
   "metadata": {},
   "outputs": [],
   "source": [
    "t0=soup00.tei.teiheader.filedesc.titlestmt.title"
   ]
  },
  {
   "cell_type": "code",
   "execution_count": 16,
   "metadata": {},
   "outputs": [],
   "source": [
    "t0.tag"
   ]
  },
  {
   "cell_type": "code",
   "execution_count": 17,
   "metadata": {},
   "outputs": [
    {
     "data": {
      "text/plain": [
       "'title'"
      ]
     },
     "execution_count": 17,
     "metadata": {},
     "output_type": "execute_result"
    }
   ],
   "source": [
    "t0.name"
   ]
  },
  {
   "cell_type": "code",
   "execution_count": 18,
   "metadata": {},
   "outputs": [
    {
     "data": {
      "text/plain": [
       "'correspSearch API - Correspondence Descriptions from divers sources'"
      ]
     },
     "execution_count": 18,
     "metadata": {},
     "output_type": "execute_result"
    }
   ],
   "source": [
    "t0.text"
   ]
  },
  {
   "cell_type": "code",
   "execution_count": 19,
   "metadata": {},
   "outputs": [
    {
     "data": {
      "text/plain": [
       "{}"
      ]
     },
     "execution_count": 19,
     "metadata": {},
     "output_type": "execute_result"
    }
   ],
   "source": [
    "t0.attrs"
   ]
  },
  {
   "cell_type": "code",
   "execution_count": 22,
   "metadata": {},
   "outputs": [],
   "source": [
    "profile=soup00.tei.teiheader.profiledesc"
   ]
  },
  {
   "cell_type": "code",
   "execution_count": 23,
   "metadata": {},
   "outputs": [
    {
     "name": "stdout",
     "output_type": "stream",
     "text": [
      "<profiledesc>\n",
      "<correspdesc key=\"110\" source=\"#e1e7187d-050f-44aa-9cdc-f60aaaa998d0\">\n",
      "<correspaction type=\"sent\">\n",
      "<persname ref=\"http://d-nb.info/gnd/118554700\">Alexander von Humboldt</persname>\n",
      "<date notafter=\"1934-12-31\" notbefore=\"1834-01-01\">wohl 1834</date>\n",
      "<placename evidence=\"conjecture\" ref=\"http://www.geonames.org/2950159\">Berlin</placename>\n",
      "</correspaction>\n",
      "<correspaction type=\"received\">\n",
      "<persname ref=\"http://d-nb.info/gnd/116471727\">Johann Franz Encke</persname>\n",
      "</correspaction>\n",
      "</correspdesc>\n",
      "<correspdesc ref=\"http://gams.uni-graz.at/o:rollett.1863#L.93\" source=\"#ROLLETT\">\n",
      "<correspaction type=\"sent\">\n",
      "<persname ref=\"http://d-nb.info/gnd/1029625700\">Schauenstein, Adolf</persname>\n",
      "<date notafter=\"1891\" notbefore=\"1863\"></date>\n",
      "<placename>unknown</placename>\n",
      "</correspaction>\n",
      "<correspaction type=\"received\">\n",
      "<persname ref=\"http://d-nb.info/gnd/119034557\">Rollett, Alexander</persname>\n",
      "</correspaction>\n",
      "</correspdesc>\n",
      "<correspdesc ref=\"http://gams.uni-graz.at/o:rollett.1863#L.104\" source=\"#ROLLETT\">\n",
      "<correspaction type=\"sent\">\n",
      "<persname ref=\"http://d-nb.info/gnd/1029625700\">Schauenstein, Adolf</persname>\n",
      "<date notafter=\"1891\" notbefore=\"1863\"></date>\n",
      "<placename ref=\"http://www.geonames.org/2778067\">Graz</placename>\n",
      "</correspaction>\n",
      "<correspaction type=\"received\">\n",
      "<persname ref=\"http://d-nb.info/gnd/119034557\">Rollett, Alexander</persname>\n",
      "</correspaction>\n",
      "</correspdesc>\n",
      "<correspdesc ref=\"http://gams.uni-graz.at/o:rollett.1863#L.105\" source=\"#ROLLETT\">\n",
      "<correspaction type=\"sent\">\n",
      "<persname ref=\"http://d-nb.info/gnd/1029625700\">Schauenstein, Adolf</persname>\n",
      "<date notafter=\"1891\" notbefore=\"1863\"></date>\n",
      "<placename ref=\"http://www.geonames.org/2778067\">Graz</placename>\n",
      "</correspaction>\n",
      "<correspaction type=\"received\">\n",
      "<persname ref=\"http://d-nb.info/gnd/119034557\">Rollett, Alexander</persname>\n",
      "</correspaction>\n",
      "</correspdesc>\n",
      "<correspdesc ref=\"http://gams.uni-graz.at/o:rollett.1863#L.106\" source=\"#ROLLETT\">\n",
      "<correspaction type=\"sent\">\n",
      "<persname ref=\"http://d-nb.info/gnd/1029625700\">Schauenstein, Adolf</persname>\n",
      "<date notafter=\"1891\" notbefore=\"1863\"></date>\n",
      "<placename ref=\"http://www.geonames.org/2778067\">Graz</placename>\n",
      "</correspaction>\n",
      "<correspaction type=\"received\">\n",
      "<persname ref=\"http://d-nb.info/gnd/119034557\">Rollett, Alexander</persname>\n",
      "</correspaction>\n",
      "</correspdesc>\n",
      "<correspdesc ref=\"http://gams.uni-graz.at/o:rollett.1864#L.174\" source=\"#ROLLETT\">\n",
      "<correspaction type=\"sent\">\n",
      "<persname ref=\"http://d-nb.info/gnd/1029625700\">Schauenstein, Adolf</persname>\n",
      "<date notafter=\"1891\" notbefore=\"1863\"></date>\n",
      "<placename ref=\"http://www.geonames.org/2778067\">Graz</placename>\n",
      "</correspaction>\n",
      "<correspaction type=\"received\">\n",
      "<persname ref=\"http://d-nb.info/gnd/119034557\">Rollett, Alexander</persname>\n",
      "</correspaction>\n",
      "</correspdesc>\n",
      "<correspdesc ref=\"http://gams.uni-graz.at/o:rollett.1871#L.561\" source=\"#ROLLETT\">\n",
      "<correspaction type=\"sent\">\n",
      "<persname ref=\"http://d-nb.info/gnd/116804688\">Graber, Vitus</persname>\n",
      "<date notafter=\"1892\" notbefore=\"1871\"></date>\n",
      "<placename>unknown</placename>\n",
      "</correspaction>\n",
      "<correspaction type=\"received\">\n",
      "<persname ref=\"http://d-nb.info/gnd/119034557\">Rollett, Alexander</persname>\n",
      "</correspaction>\n",
      "</correspdesc>\n",
      "<correspdesc ref=\"http://gams.uni-graz.at/o:rollett.1872#L.614\" source=\"#ROLLETT\">\n",
      "<correspaction type=\"sent\">\n",
      "<persname ref=\"http://d-nb.info/gnd/116626062\">Rosenthal, Isidor</persname>\n",
      "<date notafter=\"1903\" notbefore=\"1872\"></date>\n",
      "<placename ref=\"http://www.geonames.org/2929567\">Erlangen</placename>\n",
      "</correspaction>\n",
      "<correspaction type=\"received\">\n",
      "<persname ref=\"http://d-nb.info/gnd/119034557\">Rollett, Alexander</persname>\n",
      "</correspaction>\n",
      "</correspdesc>\n",
      "<correspdesc ref=\"http://gams.uni-graz.at/o:rollett.1876#L.855\" source=\"#ROLLETT\">\n",
      "<correspaction type=\"sent\">\n",
      "<persname ref=\"http://d-nb.info/gnd/116804688\">Graber, Vitus</persname>\n",
      "<date notafter=\"1891\" notbefore=\"1876\"></date>\n",
      "<placename ref=\"http://www.geonames.org/710719\">Czernowitz</placename>\n",
      "</correspaction>\n",
      "<correspaction type=\"received\">\n",
      "<persname ref=\"http://d-nb.info/gnd/119034557\">Rollett, Alexander</persname>\n",
      "</correspaction>\n",
      "</correspdesc>\n",
      "<correspdesc ref=\"http://gams.uni-graz.at/o:rollett.1876#L.856\" source=\"#ROLLETT\">\n",
      "<correspaction type=\"sent\">\n",
      "<persname ref=\"http://d-nb.info/gnd/118611046\">Schuchardt, Hugo</persname>\n",
      "<date notafter=\"1903\" notbefore=\"1876\"></date>\n",
      "<placename ref=\"http://www.geonames.org/2778067\">Graz</placename>\n",
      "</correspaction>\n",
      "<correspaction type=\"received\">\n",
      "<persname ref=\"http://d-nb.info/gnd/119034557\">Rollett, Alexander</persname>\n",
      "</correspaction>\n",
      "</correspdesc>\n",
      "<correspdesc ref=\"http://gams.uni-graz.at/o:rollett.1876#L.857\" source=\"#ROLLETT\">\n",
      "<correspaction type=\"sent\">\n",
      "<persname ref=\"http://d-nb.info/gnd/118611046\">Schuchardt, Hugo</persname>\n",
      "<date notafter=\"1903\" notbefore=\"1876\"></date>\n",
      "<placename ref=\"http://www.geonames.org/2778067\">Graz</placename>\n",
      "</correspaction>\n",
      "<correspaction type=\"received\">\n",
      "<persname ref=\"http://d-nb.info/gnd/119034557\">Rollett, Alexander</persname>\n",
      "</correspaction>\n",
      "</correspdesc>\n",
      "<correspdesc ref=\"https://www.bokselskap.no/boker/collettbrevibsen/udatert-sui\" source=\"#a92a2ecf-dd30-40d4-a9b9-51af2873303b\">\n",
      "<correspaction type=\"sent\">\n",
      "<persname ref=\"http://viaf.org/viaf/56718081\">Camilla Collett</persname>\n",
      "<date from=\"1877\" to=\"1895\"></date>\n",
      "</correspaction>\n",
      "<correspaction type=\"received\">\n",
      "<persname ref=\"http://viaf.org/viaf/37987515\">Susanna Ibsen</persname>\n",
      "</correspaction>\n",
      "</correspdesc>\n",
      "<correspdesc ref=\"http://gams.uni-graz.at/o:rollett.1882#L.1240\" source=\"#ROLLETT\">\n",
      "<correspaction type=\"sent\">\n",
      "<persname ref=\"http://d-nb.info/gnd/118930982\">Hofmann, Karl Berthold</persname>\n",
      "<date notafter=\"1891\" notbefore=\"1882\"></date>\n",
      "<placename ref=\"http://www.geonames.org/2778067\">Graz</placename>\n",
      "</correspaction>\n",
      "<correspaction type=\"received\">\n",
      "<persname ref=\"http://d-nb.info/gnd/119034557\">Rollett, Alexander</persname>\n",
      "</correspaction>\n",
      "</correspdesc>\n",
      "<correspdesc ref=\"http://gams.uni-graz.at/o:rollett.1882#L.1241\" source=\"#ROLLETT\">\n",
      "<correspaction type=\"sent\">\n",
      "<persname>Schlömicher, [Albin]</persname>\n",
      "<date notafter=\"1893\" notbefore=\"1882\"></date>\n",
      "<placename ref=\"http://www.geonames.org/2778067\">Graz</placename>\n",
      "</correspaction>\n",
      "<correspaction type=\"received\">\n",
      "<persname ref=\"http://d-nb.info/gnd/119034557\">Rollett, Alexander</persname>\n",
      "</correspaction>\n",
      "</correspdesc>\n",
      "<correspdesc ref=\"http://gams.uni-graz.at/o:rollett.1882#L.1242\" source=\"#ROLLETT\">\n",
      "<correspaction type=\"sent\">\n",
      "<persname>Waldhans [?], [NN]</persname>\n",
      "<date notafter=\"1893\" notbefore=\"1882\"></date>\n",
      "<placename>unknown</placename>\n",
      "</correspaction>\n",
      "<correspaction type=\"received\">\n",
      "<persname ref=\"http://d-nb.info/gnd/119034557\">Rollett, Alexander</persname>\n",
      "</correspaction>\n",
      "</correspdesc>\n",
      "<correspdesc ref=\"http://gams.uni-graz.at/o:rollett.1882#L.1243\" source=\"#ROLLETT\">\n",
      "<correspaction type=\"sent\">\n",
      "<persname ref=\"http://d-nb.info/gnd/117528137\">Fossel, Viktor</persname>\n",
      "<date notafter=\"1893\" notbefore=\"1882\"></date>\n",
      "<placename ref=\"http://www.geonames.org/2778067\">Graz</placename>\n",
      "</correspaction>\n",
      "<correspaction type=\"received\">\n",
      "<persname ref=\"http://d-nb.info/gnd/119034557\">Rollett, Alexander</persname>\n",
      "</correspaction>\n",
      "</correspdesc>\n",
      "<correspdesc ref=\"http://gams.uni-graz.at/o:rollett.1882#L.1256\" source=\"#ROLLETT\">\n",
      "<correspaction type=\"sent\">\n",
      "<persname ref=\"http://d-nb.info/gnd/1019541296\">Lipp, Eduard</persname>\n",
      "<date notafter=\"1893\" notbefore=\"1882\"></date>\n",
      "<placename ref=\"http://www.geonames.org/2778067\">Graz</placename>\n",
      "</correspaction>\n",
      "<correspaction type=\"received\">\n",
      "<persname ref=\"http://d-nb.info/gnd/119034557\">Rollett, Alexander</persname>\n",
      "</correspaction>\n",
      "</correspdesc>\n",
      "<correspdesc ref=\"http://gams.uni-graz.at/o:rollett.1882#L.1260\" source=\"#ROLLETT\">\n",
      "<correspaction type=\"sent\">\n",
      "<persname ref=\"http://d-nb.info/gnd/1019541296\">Lipp, Eduard</persname>\n",
      "<date notafter=\"1893\" notbefore=\"1882\"></date>\n",
      "<placename ref=\"http://www.geonames.org/2778067\">Graz</placename>\n",
      "</correspaction>\n",
      "<correspaction type=\"received\">\n",
      "<persname ref=\"http://d-nb.info/gnd/119034557\">Rollett, Alexander</persname>\n",
      "</correspaction>\n",
      "</correspdesc>\n",
      "<correspdesc ref=\"http://gams.uni-graz.at/o:rollett.1882#L.1261\" source=\"#ROLLETT\">\n",
      "<correspaction type=\"sent\">\n",
      "<persname ref=\"http://d-nb.info/gnd/1019541296\">Lipp, Eduard</persname>\n",
      "<date notafter=\"1893\" notbefore=\"1882\"></date>\n",
      "<placename ref=\"http://www.geonames.org/2778067\">Graz</placename>\n",
      "</correspaction>\n",
      "<correspaction type=\"received\">\n",
      "<persname ref=\"http://d-nb.info/gnd/119034557\">Rollett, Alexander</persname>\n",
      "</correspaction>\n",
      "</correspdesc>\n",
      "<correspdesc ref=\"http://gams.uni-graz.at/o:rollett.1882#L.1262\" source=\"#ROLLETT\">\n",
      "<correspaction type=\"sent\">\n",
      "<persname ref=\"http://d-nb.info/gnd/102749728\">Klemensiewicz, Rudolf</persname>\n",
      "<date notafter=\"1893\" notbefore=\"1882\"></date>\n",
      "<placename ref=\"http://www.geonames.org/2778067\">Graz</placename>\n",
      "</correspaction>\n",
      "<correspaction type=\"received\">\n",
      "<persname ref=\"http://d-nb.info/gnd/119034557\">Rollett, Alexander</persname>\n",
      "</correspaction>\n",
      "</correspdesc>\n",
      "<correspdesc ref=\"http://gams.uni-graz.at/o:rollett.1882#L.1273\" source=\"#ROLLETT\">\n",
      "<correspaction type=\"sent\">\n",
      "<persname ref=\"http://d-nb.info/gnd/1019541296\">Lipp, Eduard</persname>\n",
      "<date notafter=\"1893\" notbefore=\"1882\"></date>\n",
      "<placename ref=\"http://www.geonames.org/2778067\">Graz</placename>\n",
      "</correspaction>\n",
      "<correspaction type=\"received\">\n",
      "<persname ref=\"http://d-nb.info/gnd/119034557\">Rollett, Alexander</persname>\n",
      "</correspaction>\n",
      "</correspdesc>\n",
      "<correspdesc ref=\"http://gams.uni-graz.at/o:rollett.1882#L.1315\" source=\"#ROLLETT\">\n",
      "<correspaction type=\"sent\">\n",
      "<persname ref=\"http://d-nb.info/gnd/118930982\">Hofmann, Karl Berthold</persname>\n",
      "<date notafter=\"1893\" notbefore=\"1882\"></date>\n",
      "<placename ref=\"http://www.geonames.org/2778067\">Graz</placename>\n",
      "</correspaction>\n",
      "<correspaction type=\"received\">\n",
      "<persname ref=\"http://d-nb.info/gnd/119034557\">Rollett, Alexander</persname>\n",
      "</correspaction>\n",
      "</correspdesc>\n",
      "<correspdesc ref=\"http://gams.uni-graz.at/o:rollett.1885#L.1435\" source=\"#ROLLETT\">\n",
      "<correspaction type=\"sent\">\n",
      "<persname>Plazer, [NN]</persname>\n",
      "<date notafter=\"1893\" notbefore=\"1885\"></date>\n",
      "<placename ref=\"http://www.geonames.org/2778067\">Graz</placename>\n",
      "</correspaction>\n",
      "<correspaction type=\"received\">\n",
      "<persname ref=\"http://d-nb.info/gnd/119034557\">Rollett, Alexander</persname>\n",
      "</correspaction>\n",
      "</correspdesc>\n",
      "<correspdesc ref=\"http://gams.uni-graz.at/o:rollett.1886#L.1596\" source=\"#ROLLETT\">\n",
      "<correspaction type=\"sent\">\n",
      "<persname ref=\"http://d-nb.info/gnd/117614033\">Wölfler, Anton</persname>\n",
      "<date notafter=\"1893\" notbefore=\"1886\"></date>\n",
      "<placename ref=\"http://www.geonames.org/2778067\">Graz</placename>\n",
      "</correspaction>\n",
      "<correspaction type=\"received\">\n",
      "<persname ref=\"http://d-nb.info/gnd/119034557\">Rollett, Alexander</persname>\n",
      "</correspaction>\n",
      "</correspdesc>\n",
      "<correspdesc ref=\"http://gams.uni-graz.at/o:rollett.1887#L.1646\" source=\"#ROLLETT\">\n",
      "<correspaction type=\"sent\">\n",
      "<persname ref=\"http://d-nb.info/gnd/102749728\">Klemensiewicz, Rudolf</persname>\n",
      "<date notafter=\"1893\" notbefore=\"1887\"></date>\n",
      "<placename ref=\"http://www.geonames.org/2778067\">Graz</placename>\n",
      "</correspaction>\n",
      "<correspaction type=\"received\">\n",
      "<persname ref=\"http://d-nb.info/gnd/119034557\">Rollett, Alexander</persname>\n",
      "</correspaction>\n",
      "</correspdesc>\n",
      "<correspdesc ref=\"http://gams.uni-graz.at/o:rollett.1887#L.1650\" source=\"#ROLLETT\">\n",
      "<correspaction type=\"sent\">\n",
      "<persname ref=\"http://d-nb.info/gnd/1019541296\">Lipp, Eduard</persname>\n",
      "<date notafter=\"1892\" notbefore=\"1887\"></date>\n",
      "<placename ref=\"http://www.geonames.org/2778067\">Graz</placename>\n",
      "</correspaction>\n",
      "<correspaction type=\"received\">\n",
      "<persname ref=\"http://d-nb.info/gnd/119034557\">Rollett, Alexander</persname>\n",
      "</correspaction>\n",
      "</correspdesc>\n",
      "<correspdesc ref=\"http://gams.uni-graz.at/o:rollett.1889#L.1811\" source=\"#ROLLETT\">\n",
      "<correspaction type=\"sent\">\n",
      "<persname ref=\"http://d-nb.info/gnd/130658405\">Karajan, Max</persname>\n",
      "<date when=\"1889-08\"></date>\n",
      "<placename ref=\"http://www.geonames.org/2782070\">Markt Aussee</placename>\n",
      "</correspaction>\n",
      "<correspaction type=\"received\">\n",
      "<persname ref=\"http://d-nb.info/gnd/119034557\">Rollett, Alexander</persname>\n",
      "</correspaction>\n",
      "</correspdesc>\n",
      "<correspdesc ref=\"http://gams.uni-graz.at/o:rollett.1889#L.1812\" source=\"#ROLLETT\">\n",
      "<correspaction type=\"sent\">\n",
      "<persname ref=\"http://d-nb.info/gnd/1011358298\">Glax, Julius</persname>\n",
      "<date when=\"1889-08\"></date>\n",
      "<placename ref=\"http://www.geonames.org/3194099\">Abbazia</placename>\n",
      "</correspaction>\n",
      "<correspaction type=\"received\">\n",
      "<persname ref=\"http://d-nb.info/gnd/119034557\">Rollett, Alexander</persname>\n",
      "</correspaction>\n",
      "</correspdesc>\n",
      "<correspdesc ref=\"http://gams.uni-graz.at/o:rollett.1889#L.1813\" source=\"#ROLLETT\">\n",
      "<correspaction type=\"sent\">\n",
      "<persname>Laker, Carl</persname>\n",
      "<date when=\"1889-08\"></date>\n",
      "<placename ref=\"http://www.geonames.org/2768220\">Pusarnitz</placename>\n",
      "</correspaction>\n",
      "<correspaction type=\"received\">\n",
      "<persname ref=\"http://d-nb.info/gnd/119034557\">Rollett, Alexander</persname>\n",
      "</correspaction>\n",
      "</correspdesc>\n",
      "<correspdesc ref=\"http://sauer-seuffert.onb.ac.at/node/8499\" source=\"#ONBSASE\">\n",
      "<correspaction type=\"sent\">\n",
      "<persname ref=\"http://d-nb.info/gnd/118605747\">Sauer, August</persname>\n",
      "<placename ref=\"http://www.geonames.org/3067696\">Prag</placename>\n",
      "<date when=\"1889-08-01\"></date>\n",
      "</correspaction>\n",
      "<correspaction type=\"received\">\n",
      "<persname ref=\"http://d-nb.info/gnd/117470902\">Seuffert, Bernhard</persname>\n",
      "<placename ref=\"http://www.geonames.org/2778067\">Graz</placename>\n",
      "</correspaction>\n",
      "</correspdesc>\n",
      "<correspdesc ref=\"https://schnitzler-briefe.acdh.oeaw.ac.at/pages/show.html?document=1889-08-02_01.xml&amp;stylesheet=plain\" source=\"#asbw_ea0a6dba-5789-4e6b-8631-7f9f329678e4\">\n",
      "<correspaction type=\"sent\">\n",
      "<persname ref=\"https://d-nb.info/gnd/116724919\">Mamroth, Fedor</persname>\n",
      "<placename ref=\"http://sws.geonames.org/2925533/\">Frankfurt am Main</placename>\n",
      "<date when=\"1889-08-02\">2. 8. 1889</date>\n",
      "</correspaction>\n",
      "<correspaction type=\"received\">\n",
      "<persname ref=\"https://d-nb.info/gnd/118609807\">Schnitzler, Arthur</persname>\n",
      "<placename ref=\"https://www.geonames.org/2761333\">Wien</placename>\n",
      "</correspaction>\n",
      "</correspdesc>\n",
      "<correspdesc ref=\"http://sauer-seuffert.onb.ac.at/node/8500\" source=\"#ONBSASE\">\n",
      "<correspaction type=\"sent\">\n",
      "<persname ref=\"http://d-nb.info/gnd/117470902\">Seuffert, Bernhard</persname>\n",
      "<placename ref=\"http://www.geonames.org/2778067\">Graz</placename>\n",
      "<date when=\"1889-08-03\"></date>\n",
      "</correspaction>\n",
      "<correspaction type=\"received\">\n",
      "<persname ref=\"http://d-nb.info/gnd/118605747\">Sauer, August</persname>\n",
      "<placename ref=\"http://www.geonames.org/3067696\">Prag</placename>\n",
      "</correspaction>\n",
      "</correspdesc>\n",
      "<correspdesc ref=\"http://sauer-seuffert.onb.ac.at/node/8501\" source=\"#ONBSASE\">\n",
      "<correspaction type=\"sent\">\n",
      "<persname ref=\"http://d-nb.info/gnd/118605747\">Sauer, August</persname>\n",
      "<placename ref=\"http://www.geonames.org/3067696\">Prag</placename>\n",
      "<date when=\"1889-08-05\"></date>\n",
      "</correspaction>\n",
      "<correspaction type=\"received\">\n",
      "<persname ref=\"http://d-nb.info/gnd/117470902\">Seuffert, Bernhard</persname>\n",
      "<placename ref=\"http://www.geonames.org/2778067\">Graz</placename>\n",
      "</correspaction>\n",
      "</correspdesc>\n",
      "</profiledesc>\n"
     ]
    }
   ],
   "source": [
    "print(profile)"
   ]
  },
  {
   "cell_type": "code",
   "execution_count": 24,
   "metadata": {},
   "outputs": [],
   "source": [
    "c00=profile.correspdesc"
   ]
  },
  {
   "cell_type": "code",
   "execution_count": 25,
   "metadata": {},
   "outputs": [
    {
     "data": {
      "text/plain": [
       "'110'"
      ]
     },
     "execution_count": 25,
     "metadata": {},
     "output_type": "execute_result"
    }
   ],
   "source": [
    "c00['key']"
   ]
  },
  {
   "cell_type": "code",
   "execution_count": 26,
   "metadata": {},
   "outputs": [
    {
     "data": {
      "text/plain": [
       "'#e1e7187d-050f-44aa-9cdc-f60aaaa998d0'"
      ]
     },
     "execution_count": 26,
     "metadata": {},
     "output_type": "execute_result"
    }
   ],
   "source": [
    "c00['source']"
   ]
  },
  {
   "cell_type": "code",
   "execution_count": 27,
   "metadata": {},
   "outputs": [],
   "source": [
    "c01=c00.next_sibling"
   ]
  },
  {
   "cell_type": "code",
   "execution_count": 28,
   "metadata": {},
   "outputs": [
    {
     "ename": "TypeError",
     "evalue": "string indices must be integers",
     "output_type": "error",
     "traceback": [
      "\u001b[0;31m---------------------------------------------------------------------------\u001b[0m",
      "\u001b[0;31mTypeError\u001b[0m                                 Traceback (most recent call last)",
      "\u001b[0;32m<ipython-input-28-d99dd1ea569e>\u001b[0m in \u001b[0;36m<module>\u001b[0;34m\u001b[0m\n\u001b[0;32m----> 1\u001b[0;31m \u001b[0mc01\u001b[0m\u001b[0;34m[\u001b[0m\u001b[0;34m'key'\u001b[0m\u001b[0;34m]\u001b[0m\u001b[0;34m\u001b[0m\u001b[0;34m\u001b[0m\u001b[0m\n\u001b[0m",
      "\u001b[0;31mTypeError\u001b[0m: string indices must be integers"
     ]
    }
   ],
   "source": [
    "c01['key']"
   ]
  },
  {
   "cell_type": "code",
   "execution_count": 29,
   "metadata": {},
   "outputs": [
    {
     "name": "stdout",
     "output_type": "stream",
     "text": [
      "\n",
      "\n"
     ]
    }
   ],
   "source": [
    "print(c01)"
   ]
  },
  {
   "cell_type": "code",
   "execution_count": 30,
   "metadata": {},
   "outputs": [
    {
     "name": "stdout",
     "output_type": "stream",
     "text": [
      "\n",
      "\n"
     ]
    }
   ],
   "source": [
    "c01=c00.next_element\n",
    "print(c01)"
   ]
  },
  {
   "cell_type": "code",
   "execution_count": 31,
   "metadata": {},
   "outputs": [],
   "source": [
    "l=profile.find_all('correspdesc')"
   ]
  },
  {
   "cell_type": "code",
   "execution_count": 32,
   "metadata": {},
   "outputs": [
    {
     "name": "stdout",
     "output_type": "stream",
     "text": [
      "33\n"
     ]
    }
   ],
   "source": [
    "print(len(l))"
   ]
  },
  {
   "cell_type": "code",
   "execution_count": 33,
   "metadata": {},
   "outputs": [
    {
     "name": "stdout",
     "output_type": "stream",
     "text": [
      "110 #e1e7187d-050f-44aa-9cdc-f60aaaa998d0\n"
     ]
    },
    {
     "ename": "KeyError",
     "evalue": "'key'",
     "output_type": "error",
     "traceback": [
      "\u001b[0;31m---------------------------------------------------------------------------\u001b[0m",
      "\u001b[0;31mKeyError\u001b[0m                                  Traceback (most recent call last)",
      "\u001b[0;32m<ipython-input-33-ff58c43f36a2>\u001b[0m in \u001b[0;36m<module>\u001b[0;34m\u001b[0m\n\u001b[1;32m      1\u001b[0m \u001b[0;32mfor\u001b[0m \u001b[0mc\u001b[0m \u001b[0;32min\u001b[0m \u001b[0ml\u001b[0m\u001b[0;34m:\u001b[0m\u001b[0;34m\u001b[0m\u001b[0;34m\u001b[0m\u001b[0m\n\u001b[0;32m----> 2\u001b[0;31m     \u001b[0mprint\u001b[0m\u001b[0;34m(\u001b[0m\u001b[0mc\u001b[0m\u001b[0;34m[\u001b[0m\u001b[0;34m'key'\u001b[0m\u001b[0;34m]\u001b[0m\u001b[0;34m,\u001b[0m \u001b[0mc\u001b[0m\u001b[0;34m[\u001b[0m\u001b[0;34m'source'\u001b[0m\u001b[0;34m]\u001b[0m\u001b[0;34m)\u001b[0m\u001b[0;34m\u001b[0m\u001b[0;34m\u001b[0m\u001b[0m\n\u001b[0m",
      "\u001b[0;32m~/.local/lib/python3.6/site-packages/bs4/element.py\u001b[0m in \u001b[0;36m__getitem__\u001b[0;34m(self, key)\u001b[0m\n\u001b[1;32m   1399\u001b[0m         \"\"\"tag[key] returns the value of the 'key' attribute for the Tag,\n\u001b[1;32m   1400\u001b[0m         and throws an exception if it's not there.\"\"\"\n\u001b[0;32m-> 1401\u001b[0;31m         \u001b[0;32mreturn\u001b[0m \u001b[0mself\u001b[0m\u001b[0;34m.\u001b[0m\u001b[0mattrs\u001b[0m\u001b[0;34m[\u001b[0m\u001b[0mkey\u001b[0m\u001b[0;34m]\u001b[0m\u001b[0;34m\u001b[0m\u001b[0;34m\u001b[0m\u001b[0m\n\u001b[0m\u001b[1;32m   1402\u001b[0m \u001b[0;34m\u001b[0m\u001b[0m\n\u001b[1;32m   1403\u001b[0m     \u001b[0;32mdef\u001b[0m \u001b[0m__iter__\u001b[0m\u001b[0;34m(\u001b[0m\u001b[0mself\u001b[0m\u001b[0;34m)\u001b[0m\u001b[0;34m:\u001b[0m\u001b[0;34m\u001b[0m\u001b[0;34m\u001b[0m\u001b[0m\n",
      "\u001b[0;31mKeyError\u001b[0m: 'key'"
     ]
    }
   ],
   "source": [
    "for c in l:\n",
    "    print(c['key'], c['source'])"
   ]
  },
  {
   "cell_type": "code",
   "execution_count": 34,
   "metadata": {},
   "outputs": [
    {
     "name": "stdout",
     "output_type": "stream",
     "text": [
      "<correspdesc key=\"110\" source=\"#e1e7187d-050f-44aa-9cdc-f60aaaa998d0\">\n",
      "<correspaction type=\"sent\">\n",
      "<persname ref=\"http://d-nb.info/gnd/118554700\">Alexander von Humboldt</persname>\n",
      "<date notafter=\"1934-12-31\" notbefore=\"1834-01-01\">wohl 1834</date>\n",
      "<placename evidence=\"conjecture\" ref=\"http://www.geonames.org/2950159\">Berlin</placename>\n",
      "</correspaction>\n",
      "<correspaction type=\"received\">\n",
      "<persname ref=\"http://d-nb.info/gnd/116471727\">Johann Franz Encke</persname>\n",
      "</correspaction>\n",
      "</correspdesc>\n",
      "<correspdesc ref=\"http://gams.uni-graz.at/o:rollett.1863#L.93\" source=\"#ROLLETT\">\n",
      "<correspaction type=\"sent\">\n",
      "<persname ref=\"http://d-nb.info/gnd/1029625700\">Schauenstein, Adolf</persname>\n",
      "<date notafter=\"1891\" notbefore=\"1863\"></date>\n",
      "<placename>unknown</placename>\n",
      "</correspaction>\n",
      "<correspaction type=\"received\">\n",
      "<persname ref=\"http://d-nb.info/gnd/119034557\">Rollett, Alexander</persname>\n",
      "</correspaction>\n",
      "</correspdesc>\n",
      "<correspdesc ref=\"http://gams.uni-graz.at/o:rollett.1863#L.104\" source=\"#ROLLETT\">\n",
      "<correspaction type=\"sent\">\n",
      "<persname ref=\"http://d-nb.info/gnd/1029625700\">Schauenstein, Adolf</persname>\n",
      "<date notafter=\"1891\" notbefore=\"1863\"></date>\n",
      "<placename ref=\"http://www.geonames.org/2778067\">Graz</placename>\n",
      "</correspaction>\n",
      "<correspaction type=\"received\">\n",
      "<persname ref=\"http://d-nb.info/gnd/119034557\">Rollett, Alexander</persname>\n",
      "</correspaction>\n",
      "</correspdesc>\n",
      "<correspdesc ref=\"http://gams.uni-graz.at/o:rollett.1863#L.105\" source=\"#ROLLETT\">\n",
      "<correspaction type=\"sent\">\n",
      "<persname ref=\"http://d-nb.info/gnd/1029625700\">Schauenstein, Adolf</persname>\n",
      "<date notafter=\"1891\" notbefore=\"1863\"></date>\n",
      "<placename ref=\"http://www.geonames.org/2778067\">Graz</placename>\n",
      "</correspaction>\n",
      "<correspaction type=\"received\">\n",
      "<persname ref=\"http://d-nb.info/gnd/119034557\">Rollett, Alexander</persname>\n",
      "</correspaction>\n",
      "</correspdesc>\n",
      "<correspdesc ref=\"http://gams.uni-graz.at/o:rollett.1863#L.106\" source=\"#ROLLETT\">\n",
      "<correspaction type=\"sent\">\n",
      "<persname ref=\"http://d-nb.info/gnd/1029625700\">Schauenstein, Adolf</persname>\n",
      "<date notafter=\"1891\" notbefore=\"1863\"></date>\n",
      "<placename ref=\"http://www.geonames.org/2778067\">Graz</placename>\n",
      "</correspaction>\n",
      "<correspaction type=\"received\">\n",
      "<persname ref=\"http://d-nb.info/gnd/119034557\">Rollett, Alexander</persname>\n",
      "</correspaction>\n",
      "</correspdesc>\n",
      "<correspdesc ref=\"http://gams.uni-graz.at/o:rollett.1864#L.174\" source=\"#ROLLETT\">\n",
      "<correspaction type=\"sent\">\n",
      "<persname ref=\"http://d-nb.info/gnd/1029625700\">Schauenstein, Adolf</persname>\n",
      "<date notafter=\"1891\" notbefore=\"1863\"></date>\n",
      "<placename ref=\"http://www.geonames.org/2778067\">Graz</placename>\n",
      "</correspaction>\n",
      "<correspaction type=\"received\">\n",
      "<persname ref=\"http://d-nb.info/gnd/119034557\">Rollett, Alexander</persname>\n",
      "</correspaction>\n",
      "</correspdesc>\n",
      "<correspdesc ref=\"http://gams.uni-graz.at/o:rollett.1871#L.561\" source=\"#ROLLETT\">\n",
      "<correspaction type=\"sent\">\n",
      "<persname ref=\"http://d-nb.info/gnd/116804688\">Graber, Vitus</persname>\n",
      "<date notafter=\"1892\" notbefore=\"1871\"></date>\n",
      "<placename>unknown</placename>\n",
      "</correspaction>\n",
      "<correspaction type=\"received\">\n",
      "<persname ref=\"http://d-nb.info/gnd/119034557\">Rollett, Alexander</persname>\n",
      "</correspaction>\n",
      "</correspdesc>\n",
      "<correspdesc ref=\"http://gams.uni-graz.at/o:rollett.1872#L.614\" source=\"#ROLLETT\">\n",
      "<correspaction type=\"sent\">\n",
      "<persname ref=\"http://d-nb.info/gnd/116626062\">Rosenthal, Isidor</persname>\n",
      "<date notafter=\"1903\" notbefore=\"1872\"></date>\n",
      "<placename ref=\"http://www.geonames.org/2929567\">Erlangen</placename>\n",
      "</correspaction>\n",
      "<correspaction type=\"received\">\n",
      "<persname ref=\"http://d-nb.info/gnd/119034557\">Rollett, Alexander</persname>\n",
      "</correspaction>\n",
      "</correspdesc>\n",
      "<correspdesc ref=\"http://gams.uni-graz.at/o:rollett.1876#L.855\" source=\"#ROLLETT\">\n",
      "<correspaction type=\"sent\">\n",
      "<persname ref=\"http://d-nb.info/gnd/116804688\">Graber, Vitus</persname>\n",
      "<date notafter=\"1891\" notbefore=\"1876\"></date>\n",
      "<placename ref=\"http://www.geonames.org/710719\">Czernowitz</placename>\n",
      "</correspaction>\n",
      "<correspaction type=\"received\">\n",
      "<persname ref=\"http://d-nb.info/gnd/119034557\">Rollett, Alexander</persname>\n",
      "</correspaction>\n",
      "</correspdesc>\n",
      "<correspdesc ref=\"http://gams.uni-graz.at/o:rollett.1876#L.856\" source=\"#ROLLETT\">\n",
      "<correspaction type=\"sent\">\n",
      "<persname ref=\"http://d-nb.info/gnd/118611046\">Schuchardt, Hugo</persname>\n",
      "<date notafter=\"1903\" notbefore=\"1876\"></date>\n",
      "<placename ref=\"http://www.geonames.org/2778067\">Graz</placename>\n",
      "</correspaction>\n",
      "<correspaction type=\"received\">\n",
      "<persname ref=\"http://d-nb.info/gnd/119034557\">Rollett, Alexander</persname>\n",
      "</correspaction>\n",
      "</correspdesc>\n",
      "<correspdesc ref=\"http://gams.uni-graz.at/o:rollett.1876#L.857\" source=\"#ROLLETT\">\n",
      "<correspaction type=\"sent\">\n",
      "<persname ref=\"http://d-nb.info/gnd/118611046\">Schuchardt, Hugo</persname>\n",
      "<date notafter=\"1903\" notbefore=\"1876\"></date>\n",
      "<placename ref=\"http://www.geonames.org/2778067\">Graz</placename>\n",
      "</correspaction>\n",
      "<correspaction type=\"received\">\n",
      "<persname ref=\"http://d-nb.info/gnd/119034557\">Rollett, Alexander</persname>\n",
      "</correspaction>\n",
      "</correspdesc>\n",
      "<correspdesc ref=\"https://www.bokselskap.no/boker/collettbrevibsen/udatert-sui\" source=\"#a92a2ecf-dd30-40d4-a9b9-51af2873303b\">\n",
      "<correspaction type=\"sent\">\n",
      "<persname ref=\"http://viaf.org/viaf/56718081\">Camilla Collett</persname>\n",
      "<date from=\"1877\" to=\"1895\"></date>\n",
      "</correspaction>\n",
      "<correspaction type=\"received\">\n",
      "<persname ref=\"http://viaf.org/viaf/37987515\">Susanna Ibsen</persname>\n",
      "</correspaction>\n",
      "</correspdesc>\n",
      "<correspdesc ref=\"http://gams.uni-graz.at/o:rollett.1882#L.1240\" source=\"#ROLLETT\">\n",
      "<correspaction type=\"sent\">\n",
      "<persname ref=\"http://d-nb.info/gnd/118930982\">Hofmann, Karl Berthold</persname>\n",
      "<date notafter=\"1891\" notbefore=\"1882\"></date>\n",
      "<placename ref=\"http://www.geonames.org/2778067\">Graz</placename>\n",
      "</correspaction>\n",
      "<correspaction type=\"received\">\n",
      "<persname ref=\"http://d-nb.info/gnd/119034557\">Rollett, Alexander</persname>\n",
      "</correspaction>\n",
      "</correspdesc>\n",
      "<correspdesc ref=\"http://gams.uni-graz.at/o:rollett.1882#L.1241\" source=\"#ROLLETT\">\n",
      "<correspaction type=\"sent\">\n",
      "<persname>Schlömicher, [Albin]</persname>\n",
      "<date notafter=\"1893\" notbefore=\"1882\"></date>\n",
      "<placename ref=\"http://www.geonames.org/2778067\">Graz</placename>\n",
      "</correspaction>\n",
      "<correspaction type=\"received\">\n",
      "<persname ref=\"http://d-nb.info/gnd/119034557\">Rollett, Alexander</persname>\n",
      "</correspaction>\n",
      "</correspdesc>\n",
      "<correspdesc ref=\"http://gams.uni-graz.at/o:rollett.1882#L.1242\" source=\"#ROLLETT\">\n",
      "<correspaction type=\"sent\">\n",
      "<persname>Waldhans [?], [NN]</persname>\n",
      "<date notafter=\"1893\" notbefore=\"1882\"></date>\n",
      "<placename>unknown</placename>\n",
      "</correspaction>\n",
      "<correspaction type=\"received\">\n",
      "<persname ref=\"http://d-nb.info/gnd/119034557\">Rollett, Alexander</persname>\n",
      "</correspaction>\n",
      "</correspdesc>\n",
      "<correspdesc ref=\"http://gams.uni-graz.at/o:rollett.1882#L.1243\" source=\"#ROLLETT\">\n",
      "<correspaction type=\"sent\">\n",
      "<persname ref=\"http://d-nb.info/gnd/117528137\">Fossel, Viktor</persname>\n",
      "<date notafter=\"1893\" notbefore=\"1882\"></date>\n",
      "<placename ref=\"http://www.geonames.org/2778067\">Graz</placename>\n",
      "</correspaction>\n",
      "<correspaction type=\"received\">\n",
      "<persname ref=\"http://d-nb.info/gnd/119034557\">Rollett, Alexander</persname>\n",
      "</correspaction>\n",
      "</correspdesc>\n",
      "<correspdesc ref=\"http://gams.uni-graz.at/o:rollett.1882#L.1256\" source=\"#ROLLETT\">\n",
      "<correspaction type=\"sent\">\n",
      "<persname ref=\"http://d-nb.info/gnd/1019541296\">Lipp, Eduard</persname>\n",
      "<date notafter=\"1893\" notbefore=\"1882\"></date>\n",
      "<placename ref=\"http://www.geonames.org/2778067\">Graz</placename>\n",
      "</correspaction>\n",
      "<correspaction type=\"received\">\n",
      "<persname ref=\"http://d-nb.info/gnd/119034557\">Rollett, Alexander</persname>\n",
      "</correspaction>\n",
      "</correspdesc>\n",
      "<correspdesc ref=\"http://gams.uni-graz.at/o:rollett.1882#L.1260\" source=\"#ROLLETT\">\n",
      "<correspaction type=\"sent\">\n",
      "<persname ref=\"http://d-nb.info/gnd/1019541296\">Lipp, Eduard</persname>\n",
      "<date notafter=\"1893\" notbefore=\"1882\"></date>\n",
      "<placename ref=\"http://www.geonames.org/2778067\">Graz</placename>\n",
      "</correspaction>\n",
      "<correspaction type=\"received\">\n",
      "<persname ref=\"http://d-nb.info/gnd/119034557\">Rollett, Alexander</persname>\n",
      "</correspaction>\n",
      "</correspdesc>\n",
      "<correspdesc ref=\"http://gams.uni-graz.at/o:rollett.1882#L.1261\" source=\"#ROLLETT\">\n",
      "<correspaction type=\"sent\">\n",
      "<persname ref=\"http://d-nb.info/gnd/1019541296\">Lipp, Eduard</persname>\n",
      "<date notafter=\"1893\" notbefore=\"1882\"></date>\n",
      "<placename ref=\"http://www.geonames.org/2778067\">Graz</placename>\n",
      "</correspaction>\n",
      "<correspaction type=\"received\">\n",
      "<persname ref=\"http://d-nb.info/gnd/119034557\">Rollett, Alexander</persname>\n",
      "</correspaction>\n",
      "</correspdesc>\n",
      "<correspdesc ref=\"http://gams.uni-graz.at/o:rollett.1882#L.1262\" source=\"#ROLLETT\">\n",
      "<correspaction type=\"sent\">\n",
      "<persname ref=\"http://d-nb.info/gnd/102749728\">Klemensiewicz, Rudolf</persname>\n",
      "<date notafter=\"1893\" notbefore=\"1882\"></date>\n",
      "<placename ref=\"http://www.geonames.org/2778067\">Graz</placename>\n",
      "</correspaction>\n",
      "<correspaction type=\"received\">\n",
      "<persname ref=\"http://d-nb.info/gnd/119034557\">Rollett, Alexander</persname>\n",
      "</correspaction>\n",
      "</correspdesc>\n",
      "<correspdesc ref=\"http://gams.uni-graz.at/o:rollett.1882#L.1273\" source=\"#ROLLETT\">\n",
      "<correspaction type=\"sent\">\n",
      "<persname ref=\"http://d-nb.info/gnd/1019541296\">Lipp, Eduard</persname>\n",
      "<date notafter=\"1893\" notbefore=\"1882\"></date>\n",
      "<placename ref=\"http://www.geonames.org/2778067\">Graz</placename>\n",
      "</correspaction>\n",
      "<correspaction type=\"received\">\n",
      "<persname ref=\"http://d-nb.info/gnd/119034557\">Rollett, Alexander</persname>\n",
      "</correspaction>\n",
      "</correspdesc>\n",
      "<correspdesc ref=\"http://gams.uni-graz.at/o:rollett.1882#L.1315\" source=\"#ROLLETT\">\n",
      "<correspaction type=\"sent\">\n",
      "<persname ref=\"http://d-nb.info/gnd/118930982\">Hofmann, Karl Berthold</persname>\n",
      "<date notafter=\"1893\" notbefore=\"1882\"></date>\n",
      "<placename ref=\"http://www.geonames.org/2778067\">Graz</placename>\n",
      "</correspaction>\n",
      "<correspaction type=\"received\">\n",
      "<persname ref=\"http://d-nb.info/gnd/119034557\">Rollett, Alexander</persname>\n",
      "</correspaction>\n",
      "</correspdesc>\n",
      "<correspdesc ref=\"http://gams.uni-graz.at/o:rollett.1885#L.1435\" source=\"#ROLLETT\">\n",
      "<correspaction type=\"sent\">\n",
      "<persname>Plazer, [NN]</persname>\n",
      "<date notafter=\"1893\" notbefore=\"1885\"></date>\n",
      "<placename ref=\"http://www.geonames.org/2778067\">Graz</placename>\n",
      "</correspaction>\n",
      "<correspaction type=\"received\">\n",
      "<persname ref=\"http://d-nb.info/gnd/119034557\">Rollett, Alexander</persname>\n",
      "</correspaction>\n",
      "</correspdesc>\n",
      "<correspdesc ref=\"http://gams.uni-graz.at/o:rollett.1886#L.1596\" source=\"#ROLLETT\">\n",
      "<correspaction type=\"sent\">\n",
      "<persname ref=\"http://d-nb.info/gnd/117614033\">Wölfler, Anton</persname>\n",
      "<date notafter=\"1893\" notbefore=\"1886\"></date>\n",
      "<placename ref=\"http://www.geonames.org/2778067\">Graz</placename>\n",
      "</correspaction>\n",
      "<correspaction type=\"received\">\n",
      "<persname ref=\"http://d-nb.info/gnd/119034557\">Rollett, Alexander</persname>\n",
      "</correspaction>\n",
      "</correspdesc>\n",
      "<correspdesc ref=\"http://gams.uni-graz.at/o:rollett.1887#L.1646\" source=\"#ROLLETT\">\n",
      "<correspaction type=\"sent\">\n",
      "<persname ref=\"http://d-nb.info/gnd/102749728\">Klemensiewicz, Rudolf</persname>\n",
      "<date notafter=\"1893\" notbefore=\"1887\"></date>\n",
      "<placename ref=\"http://www.geonames.org/2778067\">Graz</placename>\n",
      "</correspaction>\n",
      "<correspaction type=\"received\">\n",
      "<persname ref=\"http://d-nb.info/gnd/119034557\">Rollett, Alexander</persname>\n",
      "</correspaction>\n",
      "</correspdesc>\n",
      "<correspdesc ref=\"http://gams.uni-graz.at/o:rollett.1887#L.1650\" source=\"#ROLLETT\">\n",
      "<correspaction type=\"sent\">\n",
      "<persname ref=\"http://d-nb.info/gnd/1019541296\">Lipp, Eduard</persname>\n",
      "<date notafter=\"1892\" notbefore=\"1887\"></date>\n",
      "<placename ref=\"http://www.geonames.org/2778067\">Graz</placename>\n",
      "</correspaction>\n",
      "<correspaction type=\"received\">\n",
      "<persname ref=\"http://d-nb.info/gnd/119034557\">Rollett, Alexander</persname>\n",
      "</correspaction>\n",
      "</correspdesc>\n",
      "<correspdesc ref=\"http://gams.uni-graz.at/o:rollett.1889#L.1811\" source=\"#ROLLETT\">\n",
      "<correspaction type=\"sent\">\n",
      "<persname ref=\"http://d-nb.info/gnd/130658405\">Karajan, Max</persname>\n",
      "<date when=\"1889-08\"></date>\n",
      "<placename ref=\"http://www.geonames.org/2782070\">Markt Aussee</placename>\n",
      "</correspaction>\n",
      "<correspaction type=\"received\">\n",
      "<persname ref=\"http://d-nb.info/gnd/119034557\">Rollett, Alexander</persname>\n",
      "</correspaction>\n",
      "</correspdesc>\n",
      "<correspdesc ref=\"http://gams.uni-graz.at/o:rollett.1889#L.1812\" source=\"#ROLLETT\">\n",
      "<correspaction type=\"sent\">\n",
      "<persname ref=\"http://d-nb.info/gnd/1011358298\">Glax, Julius</persname>\n",
      "<date when=\"1889-08\"></date>\n",
      "<placename ref=\"http://www.geonames.org/3194099\">Abbazia</placename>\n",
      "</correspaction>\n",
      "<correspaction type=\"received\">\n",
      "<persname ref=\"http://d-nb.info/gnd/119034557\">Rollett, Alexander</persname>\n",
      "</correspaction>\n",
      "</correspdesc>\n",
      "<correspdesc ref=\"http://gams.uni-graz.at/o:rollett.1889#L.1813\" source=\"#ROLLETT\">\n",
      "<correspaction type=\"sent\">\n",
      "<persname>Laker, Carl</persname>\n",
      "<date when=\"1889-08\"></date>\n",
      "<placename ref=\"http://www.geonames.org/2768220\">Pusarnitz</placename>\n",
      "</correspaction>\n",
      "<correspaction type=\"received\">\n",
      "<persname ref=\"http://d-nb.info/gnd/119034557\">Rollett, Alexander</persname>\n",
      "</correspaction>\n",
      "</correspdesc>\n",
      "<correspdesc ref=\"http://sauer-seuffert.onb.ac.at/node/8499\" source=\"#ONBSASE\">\n",
      "<correspaction type=\"sent\">\n",
      "<persname ref=\"http://d-nb.info/gnd/118605747\">Sauer, August</persname>\n",
      "<placename ref=\"http://www.geonames.org/3067696\">Prag</placename>\n",
      "<date when=\"1889-08-01\"></date>\n",
      "</correspaction>\n",
      "<correspaction type=\"received\">\n",
      "<persname ref=\"http://d-nb.info/gnd/117470902\">Seuffert, Bernhard</persname>\n",
      "<placename ref=\"http://www.geonames.org/2778067\">Graz</placename>\n",
      "</correspaction>\n",
      "</correspdesc>\n",
      "<correspdesc ref=\"https://schnitzler-briefe.acdh.oeaw.ac.at/pages/show.html?document=1889-08-02_01.xml&amp;stylesheet=plain\" source=\"#asbw_ea0a6dba-5789-4e6b-8631-7f9f329678e4\">\n",
      "<correspaction type=\"sent\">\n",
      "<persname ref=\"https://d-nb.info/gnd/116724919\">Mamroth, Fedor</persname>\n",
      "<placename ref=\"http://sws.geonames.org/2925533/\">Frankfurt am Main</placename>\n",
      "<date when=\"1889-08-02\">2. 8. 1889</date>\n",
      "</correspaction>\n",
      "<correspaction type=\"received\">\n",
      "<persname ref=\"https://d-nb.info/gnd/118609807\">Schnitzler, Arthur</persname>\n",
      "<placename ref=\"https://www.geonames.org/2761333\">Wien</placename>\n",
      "</correspaction>\n",
      "</correspdesc>\n",
      "<correspdesc ref=\"http://sauer-seuffert.onb.ac.at/node/8500\" source=\"#ONBSASE\">\n",
      "<correspaction type=\"sent\">\n",
      "<persname ref=\"http://d-nb.info/gnd/117470902\">Seuffert, Bernhard</persname>\n",
      "<placename ref=\"http://www.geonames.org/2778067\">Graz</placename>\n",
      "<date when=\"1889-08-03\"></date>\n",
      "</correspaction>\n",
      "<correspaction type=\"received\">\n",
      "<persname ref=\"http://d-nb.info/gnd/118605747\">Sauer, August</persname>\n",
      "<placename ref=\"http://www.geonames.org/3067696\">Prag</placename>\n",
      "</correspaction>\n",
      "</correspdesc>\n",
      "<correspdesc ref=\"http://sauer-seuffert.onb.ac.at/node/8501\" source=\"#ONBSASE\">\n",
      "<correspaction type=\"sent\">\n",
      "<persname ref=\"http://d-nb.info/gnd/118605747\">Sauer, August</persname>\n",
      "<placename ref=\"http://www.geonames.org/3067696\">Prag</placename>\n",
      "<date when=\"1889-08-05\"></date>\n",
      "</correspaction>\n",
      "<correspaction type=\"received\">\n",
      "<persname ref=\"http://d-nb.info/gnd/117470902\">Seuffert, Bernhard</persname>\n",
      "<placename ref=\"http://www.geonames.org/2778067\">Graz</placename>\n",
      "</correspaction>\n",
      "</correspdesc>\n"
     ]
    }
   ],
   "source": [
    "for c in l:\n",
    "    print(c)"
   ]
  },
  {
   "cell_type": "code",
   "execution_count": 36,
   "metadata": {},
   "outputs": [
    {
     "name": "stdout",
     "output_type": "stream",
     "text": [
      "0000 '110'\n",
      "0001 'http://gams.uni-graz.at/o:rollett.1863#L.93'\n",
      "0002 'http://gams.uni-graz.at/o:rollett.1863#L.104'\n",
      "0003 'http://gams.uni-graz.at/o:rollett.1863#L.105'\n",
      "0004 'http://gams.uni-graz.at/o:rollett.1863#L.106'\n",
      "0005 'http://gams.uni-graz.at/o:rollett.1864#L.174'\n",
      "0006 'http://gams.uni-graz.at/o:rollett.1871#L.561'\n",
      "0007 'http://gams.uni-graz.at/o:rollett.1872#L.614'\n",
      "0008 'http://gams.uni-graz.at/o:rollett.1876#L.855'\n",
      "0009 'http://gams.uni-graz.at/o:rollett.1876#L.856'\n",
      "0010 'http://gams.uni-graz.at/o:rollett.1876#L.857'\n",
      "0011 'https://www.bokselskap.no/boker/collettbrevibsen/udatert-sui'\n",
      "0012 'http://gams.uni-graz.at/o:rollett.1882#L.1240'\n",
      "0013 'http://gams.uni-graz.at/o:rollett.1882#L.1241'\n",
      "0014 'http://gams.uni-graz.at/o:rollett.1882#L.1242'\n",
      "0015 'http://gams.uni-graz.at/o:rollett.1882#L.1243'\n",
      "0016 'http://gams.uni-graz.at/o:rollett.1882#L.1256'\n",
      "0017 'http://gams.uni-graz.at/o:rollett.1882#L.1260'\n",
      "0018 'http://gams.uni-graz.at/o:rollett.1882#L.1261'\n",
      "0019 'http://gams.uni-graz.at/o:rollett.1882#L.1262'\n",
      "0020 'http://gams.uni-graz.at/o:rollett.1882#L.1273'\n",
      "0021 'http://gams.uni-graz.at/o:rollett.1882#L.1315'\n",
      "0022 'http://gams.uni-graz.at/o:rollett.1885#L.1435'\n",
      "0023 'http://gams.uni-graz.at/o:rollett.1886#L.1596'\n",
      "0024 'http://gams.uni-graz.at/o:rollett.1887#L.1646'\n",
      "0025 'http://gams.uni-graz.at/o:rollett.1887#L.1650'\n",
      "0026 'http://gams.uni-graz.at/o:rollett.1889#L.1811'\n",
      "0027 'http://gams.uni-graz.at/o:rollett.1889#L.1812'\n",
      "0028 'http://gams.uni-graz.at/o:rollett.1889#L.1813'\n",
      "0029 'http://sauer-seuffert.onb.ac.at/node/8499'\n",
      "0030 'https://schnitzler-briefe.acdh.oeaw.ac.at/pages/show.html?document=1889-08-02_01.xml&stylesheet=plain'\n",
      "0031 'http://sauer-seuffert.onb.ac.at/node/8500'\n",
      "0032 'http://sauer-seuffert.onb.ac.at/node/8501'\n"
     ]
    }
   ],
   "source": [
    "iOfs=0\n",
    "for c in l:\n",
    "    lAttr=c.attrs\n",
    "    if 'key' in lAttr:\n",
    "        print('%04d %r'%(iOfs,c['key']))\n",
    "    elif 'ref' in lAttr:\n",
    "        print('%04d %r'%(iOfs,c['ref']))\n",
    "    iOfs+=1"
   ]
  },
  {
   "cell_type": "code",
   "execution_count": 37,
   "metadata": {},
   "outputs": [
    {
     "data": {
      "text/plain": [
       "<correspdesc ref=\"https://schnitzler-briefe.acdh.oeaw.ac.at/pages/show.html?document=1889-08-02_01.xml&amp;stylesheet=plain\" source=\"#asbw_ea0a6dba-5789-4e6b-8631-7f9f329678e4\">\n",
       "<correspaction type=\"sent\">\n",
       "<persname ref=\"https://d-nb.info/gnd/116724919\">Mamroth, Fedor</persname>\n",
       "<placename ref=\"http://sws.geonames.org/2925533/\">Frankfurt am Main</placename>\n",
       "<date when=\"1889-08-02\">2. 8. 1889</date>\n",
       "</correspaction>\n",
       "<correspaction type=\"received\">\n",
       "<persname ref=\"https://d-nb.info/gnd/118609807\">Schnitzler, Arthur</persname>\n",
       "<placename ref=\"https://www.geonames.org/2761333\">Wien</placename>\n",
       "</correspaction>\n",
       "</correspdesc>"
      ]
     },
     "execution_count": 37,
     "metadata": {},
     "output_type": "execute_result"
    }
   ],
   "source": [
    "l[30]"
   ]
  },
  {
   "cell_type": "code",
   "execution_count": 40,
   "metadata": {},
   "outputs": [],
   "source": [
    "l[30].find_next('correspaction','type','sent')"
   ]
  },
  {
   "cell_type": "code",
   "execution_count": 41,
   "metadata": {},
   "outputs": [
    {
     "data": {
      "text/plain": [
       "<correspaction type=\"sent\">\n",
       "<persname ref=\"https://d-nb.info/gnd/116724919\">Mamroth, Fedor</persname>\n",
       "<placename ref=\"http://sws.geonames.org/2925533/\">Frankfurt am Main</placename>\n",
       "<date when=\"1889-08-02\">2. 8. 1889</date>\n",
       "</correspaction>"
      ]
     },
     "execution_count": 41,
     "metadata": {},
     "output_type": "execute_result"
    }
   ],
   "source": [
    "l[30].find_next('correspaction')"
   ]
  },
  {
   "cell_type": "code",
   "execution_count": 43,
   "metadata": {},
   "outputs": [],
   "source": [
    "soup01=soup00.prettify(formatter='minimal')"
   ]
  },
  {
   "cell_type": "code",
   "execution_count": 44,
   "metadata": {},
   "outputs": [],
   "source": [
    "with open('resp00b.xml','w') as fOut:\n",
    "    fOut.write(soup01)"
   ]
  },
  {
   "cell_type": "code",
   "execution_count": null,
   "metadata": {},
   "outputs": [],
   "source": []
  }
 ],
 "metadata": {
  "kernelspec": {
   "display_name": "Python 3.6.8 64-bit",
   "language": "python",
   "name": "python36864bit8f5996d73b234210b43541728c911208"
  },
  "language_info": {
   "codemirror_mode": {
    "name": "ipython",
    "version": 3
   },
   "file_extension": ".py",
   "mimetype": "text/x-python",
   "name": "python",
   "nbconvert_exporter": "python",
   "pygments_lexer": "ipython3",
   "version": "3.6.8"
  }
 },
 "nbformat": 4,
 "nbformat_minor": 2
}
