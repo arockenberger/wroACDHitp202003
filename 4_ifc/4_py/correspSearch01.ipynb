{
 "cells": [
  {
   "cell_type": "code",
   "execution_count": 4,
   "metadata": {},
   "outputs": [],
   "source": [
    "import requests\n",
    "import json\n",
    "import timeit"
   ]
  },
  {
   "cell_type": "code",
   "execution_count": 3,
   "metadata": {},
   "outputs": [],
   "source": [
    "resp01=requests.get('http://correspsearch.bbaw.de/api/v1.1/tei-json.xql?correspondent=all&startdate=1889-08-01&enddate=1889-08-08')"
   ]
  },
  {
   "cell_type": "code",
   "execution_count": 6,
   "metadata": {},
   "outputs": [
    {
     "data": {
      "text/plain": [
       "10.31686457300384"
      ]
     },
     "execution_count": 6,
     "metadata": {},
     "output_type": "execute_result"
    }
   ],
   "source": [
    "timeit.timeit(type(resp01))"
   ]
  },
  {
   "cell_type": "code",
   "execution_count": 8,
   "metadata": {},
   "outputs": [
    {
     "data": {
      "text/plain": [
       "bytes"
      ]
     },
     "execution_count": 8,
     "metadata": {},
     "output_type": "execute_result"
    }
   ],
   "source": [
    "type(resp01.content)"
   ]
  },
  {
   "cell_type": "code",
   "execution_count": 9,
   "metadata": {},
   "outputs": [],
   "source": [
    "resp01.encoding='utf-8'"
   ]
  },
  {
   "cell_type": "code",
   "execution_count": 10,
   "metadata": {},
   "outputs": [
    {
     "data": {
      "text/plain": [
       "bytes"
      ]
     },
     "execution_count": 10,
     "metadata": {},
     "output_type": "execute_result"
    }
   ],
   "source": [
    "type(resp01.content)"
   ]
  },
  {
   "cell_type": "code",
   "execution_count": 14,
   "metadata": {},
   "outputs": [],
   "source": [
    "dResp01=resp01.json()"
   ]
  },
  {
   "cell_type": "code",
   "execution_count": 16,
   "metadata": {},
   "outputs": [
    {
     "data": {
      "text/plain": [
       "{'correspDesc': [{'source': '#e1e7187d-050f-44aa-9cdc-f60aaaa998d0',\n",
       "   'key': '110',\n",
       "   'correspAction': [{'type': 'sent',\n",
       "     'persName': {'ref': 'http://d-nb.info/gnd/118554700',\n",
       "      '#text': 'Alexander von Humboldt'},\n",
       "     'date': {'notAfter': '1934-12-31',\n",
       "      'notBefore': '1834-01-01',\n",
       "      '#text': 'wohl 1834'},\n",
       "     'placeName': {'ref': 'http://www.geonames.org/2950159',\n",
       "      'evidence': 'conjecture',\n",
       "      '#text': 'Berlin'}},\n",
       "    {'type': 'received',\n",
       "     'persName': {'ref': 'http://d-nb.info/gnd/116471727',\n",
       "      '#text': 'Johann Franz Encke'}}]},\n",
       "  {'source': '#ROLLETT',\n",
       "   'ref': 'http://gams.uni-graz.at/o:rollett.1863#L.93',\n",
       "   'correspAction': [{'type': 'sent',\n",
       "     'persName': {'ref': 'http://d-nb.info/gnd/1029625700',\n",
       "      '#text': 'Schauenstein, Adolf'},\n",
       "     'date': {'notAfter': '1891', 'notBefore': '1863'},\n",
       "     'placeName': 'unknown'},\n",
       "    {'type': 'received',\n",
       "     'persName': {'ref': 'http://d-nb.info/gnd/119034557',\n",
       "      '#text': 'Rollett, Alexander'}}]},\n",
       "  {'source': '#ROLLETT',\n",
       "   'ref': 'http://gams.uni-graz.at/o:rollett.1863#L.104',\n",
       "   'correspAction': [{'type': 'sent',\n",
       "     'persName': {'ref': 'http://d-nb.info/gnd/1029625700',\n",
       "      '#text': 'Schauenstein, Adolf'},\n",
       "     'date': {'notAfter': '1891', 'notBefore': '1863'},\n",
       "     'placeName': {'ref': 'http://www.geonames.org/2778067', '#text': 'Graz'}},\n",
       "    {'type': 'received',\n",
       "     'persName': {'ref': 'http://d-nb.info/gnd/119034557',\n",
       "      '#text': 'Rollett, Alexander'}}]},\n",
       "  {'source': '#ROLLETT',\n",
       "   'ref': 'http://gams.uni-graz.at/o:rollett.1863#L.105',\n",
       "   'correspAction': [{'type': 'sent',\n",
       "     'persName': {'ref': 'http://d-nb.info/gnd/1029625700',\n",
       "      '#text': 'Schauenstein, Adolf'},\n",
       "     'date': {'notAfter': '1891', 'notBefore': '1863'},\n",
       "     'placeName': {'ref': 'http://www.geonames.org/2778067', '#text': 'Graz'}},\n",
       "    {'type': 'received',\n",
       "     'persName': {'ref': 'http://d-nb.info/gnd/119034557',\n",
       "      '#text': 'Rollett, Alexander'}}]},\n",
       "  {'source': '#ROLLETT',\n",
       "   'ref': 'http://gams.uni-graz.at/o:rollett.1863#L.106',\n",
       "   'correspAction': [{'type': 'sent',\n",
       "     'persName': {'ref': 'http://d-nb.info/gnd/1029625700',\n",
       "      '#text': 'Schauenstein, Adolf'},\n",
       "     'date': {'notAfter': '1891', 'notBefore': '1863'},\n",
       "     'placeName': {'ref': 'http://www.geonames.org/2778067', '#text': 'Graz'}},\n",
       "    {'type': 'received',\n",
       "     'persName': {'ref': 'http://d-nb.info/gnd/119034557',\n",
       "      '#text': 'Rollett, Alexander'}}]},\n",
       "  {'source': '#ROLLETT',\n",
       "   'ref': 'http://gams.uni-graz.at/o:rollett.1864#L.174',\n",
       "   'correspAction': [{'type': 'sent',\n",
       "     'persName': {'ref': 'http://d-nb.info/gnd/1029625700',\n",
       "      '#text': 'Schauenstein, Adolf'},\n",
       "     'date': {'notAfter': '1891', 'notBefore': '1863'},\n",
       "     'placeName': {'ref': 'http://www.geonames.org/2778067', '#text': 'Graz'}},\n",
       "    {'type': 'received',\n",
       "     'persName': {'ref': 'http://d-nb.info/gnd/119034557',\n",
       "      '#text': 'Rollett, Alexander'}}]},\n",
       "  {'source': '#ROLLETT',\n",
       "   'ref': 'http://gams.uni-graz.at/o:rollett.1871#L.561',\n",
       "   'correspAction': [{'type': 'sent',\n",
       "     'persName': {'ref': 'http://d-nb.info/gnd/116804688',\n",
       "      '#text': 'Graber, Vitus'},\n",
       "     'date': {'notAfter': '1892', 'notBefore': '1871'},\n",
       "     'placeName': 'unknown'},\n",
       "    {'type': 'received',\n",
       "     'persName': {'ref': 'http://d-nb.info/gnd/119034557',\n",
       "      '#text': 'Rollett, Alexander'}}]},\n",
       "  {'source': '#ROLLETT',\n",
       "   'ref': 'http://gams.uni-graz.at/o:rollett.1872#L.614',\n",
       "   'correspAction': [{'type': 'sent',\n",
       "     'persName': {'ref': 'http://d-nb.info/gnd/116626062',\n",
       "      '#text': 'Rosenthal, Isidor'},\n",
       "     'date': {'notAfter': '1903', 'notBefore': '1872'},\n",
       "     'placeName': {'ref': 'http://www.geonames.org/2929567',\n",
       "      '#text': 'Erlangen'}},\n",
       "    {'type': 'received',\n",
       "     'persName': {'ref': 'http://d-nb.info/gnd/119034557',\n",
       "      '#text': 'Rollett, Alexander'}}]},\n",
       "  {'source': '#ROLLETT',\n",
       "   'ref': 'http://gams.uni-graz.at/o:rollett.1876#L.855',\n",
       "   'correspAction': [{'type': 'sent',\n",
       "     'persName': {'ref': 'http://d-nb.info/gnd/116804688',\n",
       "      '#text': 'Graber, Vitus'},\n",
       "     'date': {'notAfter': '1891', 'notBefore': '1876'},\n",
       "     'placeName': {'ref': 'http://www.geonames.org/710719',\n",
       "      '#text': 'Czernowitz'}},\n",
       "    {'type': 'received',\n",
       "     'persName': {'ref': 'http://d-nb.info/gnd/119034557',\n",
       "      '#text': 'Rollett, Alexander'}}]},\n",
       "  {'source': '#ROLLETT',\n",
       "   'ref': 'http://gams.uni-graz.at/o:rollett.1876#L.856',\n",
       "   'correspAction': [{'type': 'sent',\n",
       "     'persName': {'ref': 'http://d-nb.info/gnd/118611046',\n",
       "      '#text': 'Schuchardt, Hugo'},\n",
       "     'date': {'notAfter': '1903', 'notBefore': '1876'},\n",
       "     'placeName': {'ref': 'http://www.geonames.org/2778067', '#text': 'Graz'}},\n",
       "    {'type': 'received',\n",
       "     'persName': {'ref': 'http://d-nb.info/gnd/119034557',\n",
       "      '#text': 'Rollett, Alexander'}}]},\n",
       "  {'source': '#ROLLETT',\n",
       "   'ref': 'http://gams.uni-graz.at/o:rollett.1876#L.857',\n",
       "   'correspAction': [{'type': 'sent',\n",
       "     'persName': {'ref': 'http://d-nb.info/gnd/118611046',\n",
       "      '#text': 'Schuchardt, Hugo'},\n",
       "     'date': {'notAfter': '1903', 'notBefore': '1876'},\n",
       "     'placeName': {'ref': 'http://www.geonames.org/2778067', '#text': 'Graz'}},\n",
       "    {'type': 'received',\n",
       "     'persName': {'ref': 'http://d-nb.info/gnd/119034557',\n",
       "      '#text': 'Rollett, Alexander'}}]},\n",
       "  {'source': '#a92a2ecf-dd30-40d4-a9b9-51af2873303b',\n",
       "   'ref': 'https://www.bokselskap.no/boker/collettbrevibsen/udatert-sui',\n",
       "   'correspAction': [{'type': 'sent',\n",
       "     'persName': {'ref': 'http://viaf.org/viaf/56718081',\n",
       "      '#text': 'Camilla Collett'},\n",
       "     'date': {'from': '1877', 'to': '1895'}},\n",
       "    {'type': 'received',\n",
       "     'persName': {'ref': 'http://viaf.org/viaf/37987515',\n",
       "      '#text': 'Susanna Ibsen'}}]},\n",
       "  {'source': '#ROLLETT',\n",
       "   'ref': 'http://gams.uni-graz.at/o:rollett.1882#L.1240',\n",
       "   'correspAction': [{'type': 'sent',\n",
       "     'persName': {'ref': 'http://d-nb.info/gnd/118930982',\n",
       "      '#text': 'Hofmann, Karl Berthold'},\n",
       "     'date': {'notAfter': '1891', 'notBefore': '1882'},\n",
       "     'placeName': {'ref': 'http://www.geonames.org/2778067', '#text': 'Graz'}},\n",
       "    {'type': 'received',\n",
       "     'persName': {'ref': 'http://d-nb.info/gnd/119034557',\n",
       "      '#text': 'Rollett, Alexander'}}]},\n",
       "  {'source': '#ROLLETT',\n",
       "   'ref': 'http://gams.uni-graz.at/o:rollett.1882#L.1241',\n",
       "   'correspAction': [{'type': 'sent',\n",
       "     'persName': 'Schlömicher, [Albin]',\n",
       "     'date': {'notAfter': '1893', 'notBefore': '1882'},\n",
       "     'placeName': {'ref': 'http://www.geonames.org/2778067', '#text': 'Graz'}},\n",
       "    {'type': 'received',\n",
       "     'persName': {'ref': 'http://d-nb.info/gnd/119034557',\n",
       "      '#text': 'Rollett, Alexander'}}]},\n",
       "  {'source': '#ROLLETT',\n",
       "   'ref': 'http://gams.uni-graz.at/o:rollett.1882#L.1242',\n",
       "   'correspAction': [{'type': 'sent',\n",
       "     'persName': 'Waldhans [?], [NN]',\n",
       "     'date': {'notAfter': '1893', 'notBefore': '1882'},\n",
       "     'placeName': 'unknown'},\n",
       "    {'type': 'received',\n",
       "     'persName': {'ref': 'http://d-nb.info/gnd/119034557',\n",
       "      '#text': 'Rollett, Alexander'}}]},\n",
       "  {'source': '#ROLLETT',\n",
       "   'ref': 'http://gams.uni-graz.at/o:rollett.1882#L.1243',\n",
       "   'correspAction': [{'type': 'sent',\n",
       "     'persName': {'ref': 'http://d-nb.info/gnd/117528137',\n",
       "      '#text': 'Fossel, Viktor'},\n",
       "     'date': {'notAfter': '1893', 'notBefore': '1882'},\n",
       "     'placeName': {'ref': 'http://www.geonames.org/2778067', '#text': 'Graz'}},\n",
       "    {'type': 'received',\n",
       "     'persName': {'ref': 'http://d-nb.info/gnd/119034557',\n",
       "      '#text': 'Rollett, Alexander'}}]},\n",
       "  {'source': '#ROLLETT',\n",
       "   'ref': 'http://gams.uni-graz.at/o:rollett.1882#L.1256',\n",
       "   'correspAction': [{'type': 'sent',\n",
       "     'persName': {'ref': 'http://d-nb.info/gnd/1019541296',\n",
       "      '#text': 'Lipp, Eduard'},\n",
       "     'date': {'notAfter': '1893', 'notBefore': '1882'},\n",
       "     'placeName': {'ref': 'http://www.geonames.org/2778067', '#text': 'Graz'}},\n",
       "    {'type': 'received',\n",
       "     'persName': {'ref': 'http://d-nb.info/gnd/119034557',\n",
       "      '#text': 'Rollett, Alexander'}}]},\n",
       "  {'source': '#ROLLETT',\n",
       "   'ref': 'http://gams.uni-graz.at/o:rollett.1882#L.1260',\n",
       "   'correspAction': [{'type': 'sent',\n",
       "     'persName': {'ref': 'http://d-nb.info/gnd/1019541296',\n",
       "      '#text': 'Lipp, Eduard'},\n",
       "     'date': {'notAfter': '1893', 'notBefore': '1882'},\n",
       "     'placeName': {'ref': 'http://www.geonames.org/2778067', '#text': 'Graz'}},\n",
       "    {'type': 'received',\n",
       "     'persName': {'ref': 'http://d-nb.info/gnd/119034557',\n",
       "      '#text': 'Rollett, Alexander'}}]},\n",
       "  {'source': '#ROLLETT',\n",
       "   'ref': 'http://gams.uni-graz.at/o:rollett.1882#L.1261',\n",
       "   'correspAction': [{'type': 'sent',\n",
       "     'persName': {'ref': 'http://d-nb.info/gnd/1019541296',\n",
       "      '#text': 'Lipp, Eduard'},\n",
       "     'date': {'notAfter': '1893', 'notBefore': '1882'},\n",
       "     'placeName': {'ref': 'http://www.geonames.org/2778067', '#text': 'Graz'}},\n",
       "    {'type': 'received',\n",
       "     'persName': {'ref': 'http://d-nb.info/gnd/119034557',\n",
       "      '#text': 'Rollett, Alexander'}}]},\n",
       "  {'source': '#ROLLETT',\n",
       "   'ref': 'http://gams.uni-graz.at/o:rollett.1882#L.1262',\n",
       "   'correspAction': [{'type': 'sent',\n",
       "     'persName': {'ref': 'http://d-nb.info/gnd/102749728',\n",
       "      '#text': 'Klemensiewicz, Rudolf'},\n",
       "     'date': {'notAfter': '1893', 'notBefore': '1882'},\n",
       "     'placeName': {'ref': 'http://www.geonames.org/2778067', '#text': 'Graz'}},\n",
       "    {'type': 'received',\n",
       "     'persName': {'ref': 'http://d-nb.info/gnd/119034557',\n",
       "      '#text': 'Rollett, Alexander'}}]},\n",
       "  {'source': '#ROLLETT',\n",
       "   'ref': 'http://gams.uni-graz.at/o:rollett.1882#L.1273',\n",
       "   'correspAction': [{'type': 'sent',\n",
       "     'persName': {'ref': 'http://d-nb.info/gnd/1019541296',\n",
       "      '#text': 'Lipp, Eduard'},\n",
       "     'date': {'notAfter': '1893', 'notBefore': '1882'},\n",
       "     'placeName': {'ref': 'http://www.geonames.org/2778067', '#text': 'Graz'}},\n",
       "    {'type': 'received',\n",
       "     'persName': {'ref': 'http://d-nb.info/gnd/119034557',\n",
       "      '#text': 'Rollett, Alexander'}}]},\n",
       "  {'source': '#ROLLETT',\n",
       "   'ref': 'http://gams.uni-graz.at/o:rollett.1882#L.1315',\n",
       "   'correspAction': [{'type': 'sent',\n",
       "     'persName': {'ref': 'http://d-nb.info/gnd/118930982',\n",
       "      '#text': 'Hofmann, Karl Berthold'},\n",
       "     'date': {'notAfter': '1893', 'notBefore': '1882'},\n",
       "     'placeName': {'ref': 'http://www.geonames.org/2778067', '#text': 'Graz'}},\n",
       "    {'type': 'received',\n",
       "     'persName': {'ref': 'http://d-nb.info/gnd/119034557',\n",
       "      '#text': 'Rollett, Alexander'}}]},\n",
       "  {'source': '#ROLLETT',\n",
       "   'ref': 'http://gams.uni-graz.at/o:rollett.1885#L.1435',\n",
       "   'correspAction': [{'type': 'sent',\n",
       "     'persName': 'Plazer, [NN]',\n",
       "     'date': {'notAfter': '1893', 'notBefore': '1885'},\n",
       "     'placeName': {'ref': 'http://www.geonames.org/2778067', '#text': 'Graz'}},\n",
       "    {'type': 'received',\n",
       "     'persName': {'ref': 'http://d-nb.info/gnd/119034557',\n",
       "      '#text': 'Rollett, Alexander'}}]},\n",
       "  {'source': '#ROLLETT',\n",
       "   'ref': 'http://gams.uni-graz.at/o:rollett.1886#L.1596',\n",
       "   'correspAction': [{'type': 'sent',\n",
       "     'persName': {'ref': 'http://d-nb.info/gnd/117614033',\n",
       "      '#text': 'Wölfler, Anton'},\n",
       "     'date': {'notAfter': '1893', 'notBefore': '1886'},\n",
       "     'placeName': {'ref': 'http://www.geonames.org/2778067', '#text': 'Graz'}},\n",
       "    {'type': 'received',\n",
       "     'persName': {'ref': 'http://d-nb.info/gnd/119034557',\n",
       "      '#text': 'Rollett, Alexander'}}]},\n",
       "  {'source': '#ROLLETT',\n",
       "   'ref': 'http://gams.uni-graz.at/o:rollett.1887#L.1646',\n",
       "   'correspAction': [{'type': 'sent',\n",
       "     'persName': {'ref': 'http://d-nb.info/gnd/102749728',\n",
       "      '#text': 'Klemensiewicz, Rudolf'},\n",
       "     'date': {'notAfter': '1893', 'notBefore': '1887'},\n",
       "     'placeName': {'ref': 'http://www.geonames.org/2778067', '#text': 'Graz'}},\n",
       "    {'type': 'received',\n",
       "     'persName': {'ref': 'http://d-nb.info/gnd/119034557',\n",
       "      '#text': 'Rollett, Alexander'}}]},\n",
       "  {'source': '#ROLLETT',\n",
       "   'ref': 'http://gams.uni-graz.at/o:rollett.1887#L.1650',\n",
       "   'correspAction': [{'type': 'sent',\n",
       "     'persName': {'ref': 'http://d-nb.info/gnd/1019541296',\n",
       "      '#text': 'Lipp, Eduard'},\n",
       "     'date': {'notAfter': '1892', 'notBefore': '1887'},\n",
       "     'placeName': {'ref': 'http://www.geonames.org/2778067', '#text': 'Graz'}},\n",
       "    {'type': 'received',\n",
       "     'persName': {'ref': 'http://d-nb.info/gnd/119034557',\n",
       "      '#text': 'Rollett, Alexander'}}]},\n",
       "  {'source': '#ROLLETT',\n",
       "   'ref': 'http://gams.uni-graz.at/o:rollett.1889#L.1811',\n",
       "   'correspAction': [{'type': 'sent',\n",
       "     'persName': {'ref': 'http://d-nb.info/gnd/130658405',\n",
       "      '#text': 'Karajan, Max'},\n",
       "     'date': {'when': '1889-08'},\n",
       "     'placeName': {'ref': 'http://www.geonames.org/2782070',\n",
       "      '#text': 'Markt Aussee'}},\n",
       "    {'type': 'received',\n",
       "     'persName': {'ref': 'http://d-nb.info/gnd/119034557',\n",
       "      '#text': 'Rollett, Alexander'}}]},\n",
       "  {'source': '#ROLLETT',\n",
       "   'ref': 'http://gams.uni-graz.at/o:rollett.1889#L.1812',\n",
       "   'correspAction': [{'type': 'sent',\n",
       "     'persName': {'ref': 'http://d-nb.info/gnd/1011358298',\n",
       "      '#text': 'Glax, Julius'},\n",
       "     'date': {'when': '1889-08'},\n",
       "     'placeName': {'ref': 'http://www.geonames.org/3194099',\n",
       "      '#text': 'Abbazia'}},\n",
       "    {'type': 'received',\n",
       "     'persName': {'ref': 'http://d-nb.info/gnd/119034557',\n",
       "      '#text': 'Rollett, Alexander'}}]},\n",
       "  {'source': '#ROLLETT',\n",
       "   'ref': 'http://gams.uni-graz.at/o:rollett.1889#L.1813',\n",
       "   'correspAction': [{'type': 'sent',\n",
       "     'persName': 'Laker, Carl',\n",
       "     'date': {'when': '1889-08'},\n",
       "     'placeName': {'ref': 'http://www.geonames.org/2768220',\n",
       "      '#text': 'Pusarnitz'}},\n",
       "    {'type': 'received',\n",
       "     'persName': {'ref': 'http://d-nb.info/gnd/119034557',\n",
       "      '#text': 'Rollett, Alexander'}}]},\n",
       "  {'source': '#ONBSASE',\n",
       "   'ref': 'http://sauer-seuffert.onb.ac.at/node/8499',\n",
       "   'correspAction': [{'type': 'sent',\n",
       "     'persName': {'ref': 'http://d-nb.info/gnd/118605747',\n",
       "      '#text': 'Sauer, August'},\n",
       "     'placeName': {'ref': 'http://www.geonames.org/3067696', '#text': 'Prag'},\n",
       "     'date': {'when': '1889-08-01'}},\n",
       "    {'type': 'received',\n",
       "     'persName': {'ref': 'http://d-nb.info/gnd/117470902',\n",
       "      '#text': 'Seuffert, Bernhard'},\n",
       "     'placeName': {'ref': 'http://www.geonames.org/2778067',\n",
       "      '#text': 'Graz'}}]},\n",
       "  {'ref': 'https://schnitzler-briefe.acdh.oeaw.ac.at/pages/show.html?document=1889-08-02_01.xml&amp;stylesheet=plain',\n",
       "   'source': '#asbw_ea0a6dba-5789-4e6b-8631-7f9f329678e4',\n",
       "   'correspAction': [{'type': 'sent',\n",
       "     'persName': {'ref': 'https://d-nb.info/gnd/116724919',\n",
       "      '#text': 'Mamroth, Fedor'},\n",
       "     'placeName': {'ref': 'http://sws.geonames.org/2925533/',\n",
       "      '#text': 'Frankfurt am Main'},\n",
       "     'date': {'when': '1889-08-02', '#text': '2.\\xa08.\\xa01889'}},\n",
       "    {'type': 'received',\n",
       "     'persName': {'ref': 'https://d-nb.info/gnd/118609807',\n",
       "      '#text': 'Schnitzler, Arthur'},\n",
       "     'placeName': {'ref': 'https://www.geonames.org/2761333',\n",
       "      '#text': 'Wien'}}]},\n",
       "  {'source': '#ONBSASE',\n",
       "   'ref': 'http://sauer-seuffert.onb.ac.at/node/8500',\n",
       "   'correspAction': [{'type': 'sent',\n",
       "     'persName': {'ref': 'http://d-nb.info/gnd/117470902',\n",
       "      '#text': 'Seuffert, Bernhard'},\n",
       "     'placeName': {'ref': 'http://www.geonames.org/2778067', '#text': 'Graz'},\n",
       "     'date': {'when': '1889-08-03'}},\n",
       "    {'type': 'received',\n",
       "     'persName': {'ref': 'http://d-nb.info/gnd/118605747',\n",
       "      '#text': 'Sauer, August'},\n",
       "     'placeName': {'ref': 'http://www.geonames.org/3067696',\n",
       "      '#text': 'Prag'}}]},\n",
       "  {'source': '#ONBSASE',\n",
       "   'ref': 'http://sauer-seuffert.onb.ac.at/node/8501',\n",
       "   'correspAction': [{'type': 'sent',\n",
       "     'persName': {'ref': 'http://d-nb.info/gnd/118605747',\n",
       "      '#text': 'Sauer, August'},\n",
       "     'placeName': {'ref': 'http://www.geonames.org/3067696', '#text': 'Prag'},\n",
       "     'date': {'when': '1889-08-05'}},\n",
       "    {'type': 'received',\n",
       "     'persName': {'ref': 'http://d-nb.info/gnd/117470902',\n",
       "      '#text': 'Seuffert, Bernhard'},\n",
       "     'placeName': {'ref': 'http://www.geonames.org/2778067',\n",
       "      '#text': 'Graz'}}]}]}"
      ]
     },
     "execution_count": 16,
     "metadata": {},
     "output_type": "execute_result"
    }
   ],
   "source": [
    "dResp01['teiHeader']['profileDesc']"
   ]
  },
  {
   "cell_type": "code",
   "execution_count": 21,
   "metadata": {},
   "outputs": [],
   "source": [
    "lCorrespDesc=dResp01['teiHeader']['profileDesc']['correspDesc']"
   ]
  },
  {
   "cell_type": "code",
   "execution_count": 22,
   "metadata": {},
   "outputs": [
    {
     "name": "stdout",
     "output_type": "stream",
     "text": [
      "0000 '110'\n",
      "0001 'http://gams.uni-graz.at/o:rollett.1863#L.93'\n",
      "0002 'http://gams.uni-graz.at/o:rollett.1863#L.104'\n",
      "0003 'http://gams.uni-graz.at/o:rollett.1863#L.105'\n",
      "0004 'http://gams.uni-graz.at/o:rollett.1863#L.106'\n",
      "0005 'http://gams.uni-graz.at/o:rollett.1864#L.174'\n",
      "0006 'http://gams.uni-graz.at/o:rollett.1871#L.561'\n",
      "0007 'http://gams.uni-graz.at/o:rollett.1872#L.614'\n",
      "0008 'http://gams.uni-graz.at/o:rollett.1876#L.855'\n",
      "0009 'http://gams.uni-graz.at/o:rollett.1876#L.856'\n",
      "0010 'http://gams.uni-graz.at/o:rollett.1876#L.857'\n",
      "0011 'https://www.bokselskap.no/boker/collettbrevibsen/udatert-sui'\n",
      "0012 'http://gams.uni-graz.at/o:rollett.1882#L.1240'\n",
      "0013 'http://gams.uni-graz.at/o:rollett.1882#L.1241'\n",
      "0014 'http://gams.uni-graz.at/o:rollett.1882#L.1242'\n",
      "0015 'http://gams.uni-graz.at/o:rollett.1882#L.1243'\n",
      "0016 'http://gams.uni-graz.at/o:rollett.1882#L.1256'\n",
      "0017 'http://gams.uni-graz.at/o:rollett.1882#L.1260'\n",
      "0018 'http://gams.uni-graz.at/o:rollett.1882#L.1261'\n",
      "0019 'http://gams.uni-graz.at/o:rollett.1882#L.1262'\n",
      "0020 'http://gams.uni-graz.at/o:rollett.1882#L.1273'\n",
      "0021 'http://gams.uni-graz.at/o:rollett.1882#L.1315'\n",
      "0022 'http://gams.uni-graz.at/o:rollett.1885#L.1435'\n",
      "0023 'http://gams.uni-graz.at/o:rollett.1886#L.1596'\n",
      "0024 'http://gams.uni-graz.at/o:rollett.1887#L.1646'\n",
      "0025 'http://gams.uni-graz.at/o:rollett.1887#L.1650'\n",
      "0026 'http://gams.uni-graz.at/o:rollett.1889#L.1811'\n",
      "0027 'http://gams.uni-graz.at/o:rollett.1889#L.1812'\n",
      "0028 'http://gams.uni-graz.at/o:rollett.1889#L.1813'\n",
      "0029 'http://sauer-seuffert.onb.ac.at/node/8499'\n",
      "0030 'https://schnitzler-briefe.acdh.oeaw.ac.at/pages/show.html?document=1889-08-02_01.xml&amp;stylesheet=plain'\n",
      "0031 'http://sauer-seuffert.onb.ac.at/node/8500'\n",
      "0032 'http://sauer-seuffert.onb.ac.at/node/8501'\n"
     ]
    }
   ],
   "source": [
    "iOfs=0\n",
    "for crpDesc in lCorrespDesc:\n",
    "    if 'key' in crpDesc:\n",
    "        print('%04d %r'%(iOfs,crpDesc['key']))\n",
    "    elif 'ref' in crpDesc:\n",
    "        print('%04d %r'%(iOfs,crpDesc['ref']))\n",
    "    iOfs+=1"
   ]
  },
  {
   "cell_type": "code",
   "execution_count": 35,
   "metadata": {},
   "outputs": [],
   "source": [
    "def getCrpDescToLst(crpDesc,iVerbose=1):\n",
    "    iFound=0\n",
    "    lRes=[]\n",
    "    if 'correspAction' in crpDesc:\n",
    "        for crpAct in crpDesc['correspAction']:\n",
    "            if 'type' in crpAct:\n",
    "                if crpAct['type'] in ['sent']:\n",
    "                    if 'date' in crpAct:\n",
    "                        dTimeSent=crpAct['date']\n",
    "                        if 'when' in dTimeSent:\n",
    "                            sTimeSent=dTimeSent['when']\n",
    "                            iFound=1\n",
    "                        else:\n",
    "                            sTimeSent='???'\n",
    "                        if iVerbose>0:\n",
    "                            print(sTimeSent)\n",
    "                        lRes.append(sTimeSent)\n",
    "        if iFound>0:\n",
    "            if 'ref' in crpDesc:\n",
    "                lRes.append(crpDesc['ref'])\n",
    "            else:\n",
    "                lRes='---'\n",
    "    return iFound,lRes\n"
   ]
  },
  {
   "cell_type": "code",
   "execution_count": 28,
   "metadata": {},
   "outputs": [
    {
     "name": "stdout",
     "output_type": "stream",
     "text": [
      "1889-08-02\n"
     ]
    }
   ],
   "source": [
    "iRes,lRes=getCrpDescToLst(lCorrespDesc[30])"
   ]
  },
  {
   "cell_type": "code",
   "execution_count": 29,
   "metadata": {},
   "outputs": [
    {
     "name": "stdout",
     "output_type": "stream",
     "text": [
      "1889-08-01\n"
     ]
    }
   ],
   "source": [
    "iRes,lRes=getCrpDescToLst(lCorrespDesc[29])"
   ]
  },
  {
   "cell_type": "code",
   "execution_count": 30,
   "metadata": {},
   "outputs": [
    {
     "name": "stdout",
     "output_type": "stream",
     "text": [
      "1889-08\n"
     ]
    }
   ],
   "source": [
    "iRes,lRes=getCrpDescToLst(lCorrespDesc[28])"
   ]
  },
  {
   "cell_type": "code",
   "execution_count": 38,
   "metadata": {},
   "outputs": [
    {
     "name": "stdout",
     "output_type": "stream",
     "text": [
      "0026 1889-08      'http://gams.uni-graz.at/o:rollett.1889#L.1811'\n",
      "0027 1889-08      'http://gams.uni-graz.at/o:rollett.1889#L.1812'\n",
      "0028 1889-08      'http://gams.uni-graz.at/o:rollett.1889#L.1813'\n",
      "0029 1889-08-01   'http://sauer-seuffert.onb.ac.at/node/8499'\n",
      "0030 1889-08-02   'https://schnitzler-briefe.acdh.oeaw.ac.at/pages/show.html?document=1889-08-02_01.xml&amp;stylesheet=plain'\n",
      "0031 1889-08-03   'http://sauer-seuffert.onb.ac.at/node/8500'\n",
      "0032 1889-08-05   'http://sauer-seuffert.onb.ac.at/node/8501'\n"
     ]
    }
   ],
   "source": [
    "iOfs=-1\n",
    "for crpDesc in lCorrespDesc:\n",
    "    iOfs+=1\n",
    "    iRes,lRes=getCrpDescToLst(crpDesc,iVerbose=0)\n",
    "    if iRes>0:\n",
    "        print('%04d %-12s %r'%(iOfs,lRes[0],lRes[1]))\n"
   ]
  },
  {
   "cell_type": "code",
   "execution_count": 64,
   "metadata": {},
   "outputs": [],
   "source": [
    "resp02=requests.get('http://correspsearch.bbaw.de/api/v1.1/tei-json.xql?correspondent=all&startdate=1889-08-01&enddate=1889-08-08&strictDate=true')"
   ]
  },
  {
   "cell_type": "code",
   "execution_count": 65,
   "metadata": {},
   "outputs": [
    {
     "data": {
      "text/plain": [
       "10.458028951994493"
      ]
     },
     "execution_count": 65,
     "metadata": {},
     "output_type": "execute_result"
    }
   ],
   "source": [
    "timeit.timeit(type(resp02))"
   ]
  },
  {
   "cell_type": "code",
   "execution_count": 66,
   "metadata": {},
   "outputs": [],
   "source": [
    "dResp02=resp02.json()"
   ]
  },
  {
   "cell_type": "code",
   "execution_count": 67,
   "metadata": {},
   "outputs": [],
   "source": [
    "lCorrespDesc02=dResp02['teiHeader']['profileDesc']['correspDesc']"
   ]
  },
  {
   "cell_type": "code",
   "execution_count": 68,
   "metadata": {},
   "outputs": [
    {
     "name": "stdout",
     "output_type": "stream",
     "text": [
      "0000 1889-08-01   'http://sauer-seuffert.onb.ac.at/node/8499'\n",
      "0001 1889-08-02   'https://schnitzler-briefe.acdh.oeaw.ac.at/pages/show.html?document=1889-08-02_01.xml&amp;stylesheet=plain'\n",
      "0002 1889-08-03   'http://sauer-seuffert.onb.ac.at/node/8500'\n",
      "0003 1889-08-05   'http://sauer-seuffert.onb.ac.at/node/8501'\n"
     ]
    }
   ],
   "source": [
    "iOfs=-1\n",
    "for crpDesc in lCorrespDesc02:\n",
    "    iOfs+=1\n",
    "    iRes,lRes=getCrpDescToLst(crpDesc,iVerbose=0)\n",
    "    if iRes>0:\n",
    "        print('%04d %-12s %r'%(iOfs,lRes[0],lRes[1]))\n"
   ]
  },
  {
   "cell_type": "code",
   "execution_count": 63,
   "metadata": {},
   "outputs": [
    {
     "data": {
      "text/plain": [
       "{'source': '#e1e7187d-050f-44aa-9cdc-f60aaaa998d0',\n",
       " 'key': '110',\n",
       " 'correspAction': [{'type': 'sent',\n",
       "   'persName': {'ref': 'http://d-nb.info/gnd/118554700',\n",
       "    '#text': 'Alexander von Humboldt'},\n",
       "   'date': {'notAfter': '1934-12-31',\n",
       "    'notBefore': '1834-01-01',\n",
       "    '#text': 'wohl 1834'},\n",
       "   'placeName': {'ref': 'http://www.geonames.org/2950159',\n",
       "    'evidence': 'conjecture',\n",
       "    '#text': 'Berlin'}},\n",
       "  {'type': 'received',\n",
       "   'persName': {'ref': 'http://d-nb.info/gnd/116471727',\n",
       "    '#text': 'Johann Franz Encke'}}]}"
      ]
     },
     "execution_count": 63,
     "metadata": {},
     "output_type": "execute_result"
    }
   ],
   "source": [
    "lCorrespDesc02[0]"
   ]
  },
  {
   "cell_type": "code",
   "execution_count": 69,
   "metadata": {},
   "outputs": [],
   "source": [
    "resp02.encoding='utf-8'"
   ]
  },
  {
   "cell_type": "code",
   "execution_count": 70,
   "metadata": {},
   "outputs": [
    {
     "data": {
      "text/plain": [
       "{'ref': 'https://schnitzler-briefe.acdh.oeaw.ac.at/pages/show.html?document=1889-08-02_01.xml&amp;stylesheet=plain',\n",
       " 'source': '#asbw_ea0a6dba-5789-4e6b-8631-7f9f329678e4',\n",
       " 'correspAction': [{'type': 'sent',\n",
       "   'persName': {'ref': 'https://d-nb.info/gnd/116724919',\n",
       "    '#text': 'Mamroth, Fedor'},\n",
       "   'placeName': {'ref': 'http://sws.geonames.org/2925533/',\n",
       "    '#text': 'Frankfurt am Main'},\n",
       "   'date': {'when': '1889-08-02', '#text': '2.\\xa08.\\xa01889'}},\n",
       "  {'type': 'received',\n",
       "   'persName': {'ref': 'https://d-nb.info/gnd/118609807',\n",
       "    '#text': 'Schnitzler, Arthur'},\n",
       "   'placeName': {'ref': 'https://www.geonames.org/2761333', '#text': 'Wien'}}]}"
      ]
     },
     "execution_count": 70,
     "metadata": {},
     "output_type": "execute_result"
    }
   ],
   "source": [
    "lCorrespDesc02[1]"
   ]
  },
  {
   "cell_type": "code",
   "execution_count": null,
   "metadata": {},
   "outputs": [],
   "source": []
  }
 ],
 "metadata": {
  "kernelspec": {
   "display_name": "Python 3",
   "language": "python",
   "name": "python3"
  },
  "language_info": {
   "codemirror_mode": {
    "name": "ipython",
    "version": 3
   },
   "file_extension": ".py",
   "mimetype": "text/x-python",
   "name": "python",
   "nbconvert_exporter": "python",
   "pygments_lexer": "ipython3",
   "version": "3.6.8"
  }
 },
 "nbformat": 4,
 "nbformat_minor": 4
}
