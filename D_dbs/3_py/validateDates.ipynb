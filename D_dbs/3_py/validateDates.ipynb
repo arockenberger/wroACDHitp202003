{
 "cells": [
  {
   "cell_type": "markdown",
   "metadata": {},
   "source": [
    "# validateDates\n",
    "\n",
    "on OCR text recognition might not be error free.\n",
    "you take a glance to transkribus result and all looks good.\n",
    "nevertheless a sematic check on result is useful.\n",
    "\n",
    "**our data is a index form a book**\n",
    "it starts with names (receiver of letter) in maybe multiple lines,\n",
    "followed by dates, which are sorted, from older to newer.\n",
    "\n",
    "```text\n",
    "Friedmann, Ernst\n",
    "13. 9. 1912\n",
    "Friese, Carl\n",
    "13. 2. 1907\n",
    "20. 2. 1907\n",
    "Fulda, Ludwig\n",
    "28. 11. 1898\n",
    "28. 12. 1898\n",
    "4. 1. 1899\n",
    "10. 3. 1890\n",
    "25. 4. 1899\n",
    "20. 6. 1900\n",
    "23. 6. 1900\n",
    "7. 7. 1900\n",
    "17. 1. 1901\n",
    "22. 3. 1901\n",
    "8. 6. 1901\n",
    "23. 7. 1904\n",
    "25. 8. 1904\n",
    "Glümer, Marie\n",
    "Sommer 1889\n",
    "4. 8. 1889\n",
    "5. 8. 1889\n",
    "```\n",
    "\n",
    "with OpenRefine, a json was created\n",
    "\n",
    "```json\n",
    "}, {\n",
    "    \"recv\": \"Fulda, Ludwig\",\n",
    "    \"date_when\": \"1898-12-28\",\n",
    "    \"date_text\": \"28. 12. 1898\",\n",
    "    \"uncertain\": false\n",
    "}, {\n",
    "    \"recv\": \"Fulda, Ludwig\",\n",
    "    \"date_when\": \"1899-01-04\",\n",
    "    \"date_text\": \"4. 1. 1899\",\n",
    "    \"uncertain\": false,\n",
    "}, {\n",
    "    \"recv\": \"Fulda, Ludwig\",\n",
    "    \"date_when\": \"1890-03-10\",\n",
    "    \"date_text\": \"10. 3. 1890\",\n",
    "    \"uncertain\": false,\n",
    "}, {\n",
    "    \"recv\": \"Fulda, Ludwig\",\n",
    "    \"date_when\": \"1899-04-25\",\n",
    "    \"date_text\": \"25. 4. 1899\",\n",
    "    \"uncertain\": false\n",
    "}, {\n",
    "```\n",
    "\n",
    "only a focused sight at this data, text or refined data, will reveal recognition error\n",
    "at `10. 3. 1890` (1890-03-10), seen in context, it is supposed to be `10. 3. 1899`;\n",
    "however we don't want to replace humans, so it's up to a human to decide.\n",
    "\n",
    "**goal** of this notebook is to find suspicious dates, out of order dates.\n",
    "if a newer date was present in previous line, one of those two is properly\n",
    "wrong.\n",
    "\n",
    "```json\n",
    "}, {\n",
    "    \"recv\": \"Fulda, Ludwig\",\n",
    "    \"date_when\": \"1898-12-28\",\n",
    "    \"date_text\": \"28. 12. 1898\",\n",
    "    \"uncertain\": false\n",
    "}, {\n",
    "    \"recv\": \"Fulda, Ludwig\",\n",
    "    \"date_when\": \"1899-01-04\",\n",
    "    \"date_text\": \"4. 1. 1899\",\n",
    "    \"uncertain\": false,\n",
    "    \"suspicious\": \"true\"\n",
    "}, {\n",
    "    \"recv\": \"Fulda, Ludwig\",\n",
    "    \"date_when\": \"1890-03-10\",\n",
    "    \"date_text\": \"10. 3. 1890\",\n",
    "    \"uncertain\": false,\n",
    "    \"suspicious\": \"true\"\n",
    "}, {\n",
    "    \"recv\": \"Fulda, Ludwig\",\n",
    "    \"date_when\": \"1899-04-25\",\n",
    "    \"date_text\": \"25. 4. 1899\",\n",
    "    \"uncertain\": false\n",
    "}, {\n",
    "```\n"
   ]
  },
  {
   "cell_type": "markdown",
   "metadata": {},
   "source": [
    "## Released under MIT License\n",
    "\n",
    "Copyright (c) 2020 Walter Obweger (twitter:`@wobweger`).\n",
    "\n",
    "Permission is hereby granted, free of charge, to any person obtaining a copy of this software and associated documentation files (the \"Software\"), to deal in the Software without restriction, including without limitation the rights to use, copy, modify, merge, publish, distribute, sublicense, and/or sell copies of the Software, and to permit persons to whom the Software is furnished to do so, subject to the following conditions:\n",
    "\n",
    "The above copyright notice and this permission notice shall be included in all copies or substantial portions of the Software.\n",
    "\n",
    "THE SOFTWARE IS PROVIDED \"AS IS\", WITHOUT WARRANTY OF ANY KIND, EXPRESS OR IMPLIED, INCLUDING BUT NOT LIMITED TO THE WARRANTIES OF MERCHANTABILITY, FITNESS FOR A PARTICULAR PURPOSE AND NONINFRINGEMENT. IN NO EVENT SHALL THE AUTHORS OR COPYRIGHT HOLDERS BE LIABLE FOR ANY CLAIM, DAMAGES OR OTHER LIABILITY, WHETHER IN AN ACTION OF CONTRACT, TORT OR OTHERWISE, ARISING FROM, OUT OF OR IN CONNECTION WITH THE SOFTWARE OR THE USE OR OTHER DEALINGS IN THE SOFTWARE."
   ]
  },
  {
   "cell_type": "markdown",
   "metadata": {},
   "source": [
    "## background\n",
    "\n",
    "created during [ACDH and CH](https://www.oeaw.ac.at/acdh/) [internship](https://www.oeaw.ac.at/acdh/education/acdh-ch-internships/) 2020\n",
    "\n",
    "big thanks to the whole ACDH and CH team (twitter: `@ACDH_OeAW`),\n",
    "special thanks to my instructor [Martin Anton Mueller](https://www.oeaw.ac.at/acdh/team/current-team/martin-anton-mueller/) (twitter:@f46906169)\n",
    "\n",
    "twitter `#wroACDHitp202003`"
   ]
  },
  {
   "cell_type": "code",
   "execution_count": 1,
   "metadata": {},
   "outputs": [],
   "source": [
    "import json\n",
    "import datetime"
   ]
  },
  {
   "cell_type": "code",
   "execution_count": 2,
   "metadata": {},
   "outputs": [],
   "source": [
    "def validateDates(sFN):\n",
    "    lDat=[]\n",
    "    lRecv=[]\n",
    "    iRecvToClr=0\n",
    "    zPrev=None\n",
    "    with open(sFN,'r') as fIn:\n",
    "        d=json.load(fIn)\n",
    "        lLetter=d['rows']\n",
    "        for dLetter in lLetter:\n",
    "            sRecv=dLetter['recv']\n",
    "            sSend=dLetter['date_when']\n",
    "            iUnCer=dLetter['uncertain']\n",
    "            iIsDate=0\n",
    "            if len(sSend)==0:\n",
    "                lPart=sRecv.split(' ')\n",
    "                for sPart in lPart:\n",
    "                    try:\n",
    "                        iVal=int(sPart)\n",
    "                        iIsDate=1\n",
    "                    except:\n",
    "                        pass\n",
    "            else:\n",
    "                iIsDate=1\n",
    "            if iIsDate==0:\n",
    "                if iRecvToClr>0:\n",
    "                    lRecv=[]\n",
    "                    zPrev=None\n",
    "                    iRecvToClr=0\n",
    "                lRecv.append(sRecv)\n",
    "            else:\n",
    "                dItem={'recv':','.join(lRecv),'date_when':sSend,'date_text':sRecv,'uncertain':iUnCer}\n",
    "                try:\n",
    "                    zSend=datetime.datetime.strptime(sSend, '%Y-%m-%d')\n",
    "                    if zPrev is not None:\n",
    "                        if zSend<zPrev:\n",
    "                            lDat[-1]['suspicious']='true'\n",
    "                            dItem['suspicious']='true'\n",
    "                            print('properly wrong year recognized')\n",
    "                except:\n",
    "                    zSend=None\n",
    "                lDat.append(dItem)\n",
    "                if zSend is not None:\n",
    "                    zPrev=zSend\n",
    "                iRecvToClr=1\n",
    "    return lDat"
   ]
  },
  {
   "cell_type": "code",
   "execution_count": 3,
   "metadata": {},
   "outputs": [],
   "source": [
    "def writeJson(sOutFN,lDat):\n",
    "    with open(sOutFN,'w') as fOut:\n",
    "        fOut.write(json.dumps(lDat))"
   ]
  },
  {
   "cell_type": "markdown",
   "metadata": {},
   "source": [
    "## Arthur Schnitzlers Brief vom 1875 bis 1912"
   ]
  },
  {
   "cell_type": "code",
   "execution_count": 8,
   "metadata": {},
   "outputs": [
    {
     "name": "stdout",
     "output_type": "stream",
     "text": [
      "properly wrong year recognized\n",
      "properly wrong year recognized\n",
      "properly wrong year recognized\n",
      "properly wrong year recognized\n",
      "properly wrong year recognized\n",
      "properly wrong year recognized\n",
      "properly wrong year recognized\n"
     ]
    }
   ],
   "source": [
    "lDat=validateDates('../cmif/ArthurSchnitzler_Briefe_1875_1912_02.json')"
   ]
  },
  {
   "cell_type": "code",
   "execution_count": 9,
   "metadata": {},
   "outputs": [
    {
     "data": {
      "text/plain": [
       "{'recv': 'Andrian, Leopold,Freiherr von',\n",
       " 'date_when': '1912-11-18',\n",
       " 'date_text': '18. 11. 1912',\n",
       " 'uncertain': False}"
      ]
     },
     "execution_count": 9,
     "metadata": {},
     "output_type": "execute_result"
    }
   ],
   "source": [
    "lDat[0]"
   ]
  },
  {
   "cell_type": "code",
   "execution_count": 10,
   "metadata": {},
   "outputs": [],
   "source": [
    "writeJson('../ArthurSchnitzler_Briefe_1875_1912_Inhalt_03.json',lDat)"
   ]
  },
  {
   "cell_type": "markdown",
   "metadata": {},
   "source": [
    "## Arthur Schnitzlers Brief vom 1913 bis 1931"
   ]
  },
  {
   "cell_type": "code",
   "execution_count": 4,
   "metadata": {},
   "outputs": [
    {
     "name": "stdout",
     "output_type": "stream",
     "text": [
      "properly wrong year recognized\n",
      "properly wrong year recognized\n",
      "properly wrong year recognized\n",
      "properly wrong year recognized\n",
      "properly wrong year recognized\n"
     ]
    }
   ],
   "source": [
    "lDat=validateDates('../cmif/ArthurSchnitzler_Briefe_1913_1931_02.json')"
   ]
  },
  {
   "cell_type": "code",
   "execution_count": 5,
   "metadata": {},
   "outputs": [],
   "source": [
    "writeJson('../ArthurSchnitzler_Briefe_1913_1931_Inhalt_03.json',lDat)"
   ]
  },
  {
   "cell_type": "code",
   "execution_count": 31,
   "metadata": {},
   "outputs": [],
   "source": []
  },
  {
   "cell_type": "code",
   "execution_count": null,
   "metadata": {},
   "outputs": [],
   "source": []
  }
 ],
 "metadata": {
  "kernelspec": {
   "display_name": "Python 3",
   "language": "python",
   "name": "python3"
  },
  "language_info": {
   "codemirror_mode": {
    "name": "ipython",
    "version": 3
   },
   "file_extension": ".py",
   "mimetype": "text/x-python",
   "name": "python",
   "nbconvert_exporter": "python",
   "pygments_lexer": "ipython3",
   "version": "3.6.8"
  }
 },
 "nbformat": 4,
 "nbformat_minor": 4
}
